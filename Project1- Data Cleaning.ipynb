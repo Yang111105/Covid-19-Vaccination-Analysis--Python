{
 "cells": [
  {
   "cell_type": "code",
   "execution_count": 1,
   "source": [
    "import pandas as pd\r\n",
    "import numpy as np\r\n",
    "import matplotlib.pyplot as plt\r\n",
    "import scipy.stats as st"
   ],
   "outputs": [],
   "metadata": {}
  },
  {
   "cell_type": "code",
   "execution_count": 2,
   "source": [
    "# Load in the sample data\r\n",
    "vaccine_county = pd.read_csv(\"Clean_data/vaccine_us_county_clean.csv\",low_memory=False)\r\n",
    "vaccine_county_sample = pd.read_csv(\"Clean_data/vaccine_county_sample.csv\",low_memory=False)"
   ],
   "outputs": [],
   "metadata": {}
  },
  {
   "cell_type": "code",
   "execution_count": 3,
   "source": [
    "vaccine_rate = vaccine_county.Series_Complete_Pop_Pct\r\n",
    "vaccine_rate_sample = vaccine_county_sample.Series_Complete_Pop_Pct\r\n",
    "print(vaccine_rate)\r\n",
    "print(vaccine_rate_sample)"
   ],
   "outputs": [
    {
     "output_type": "stream",
     "name": "stdout",
     "text": [
      "0       47.1\n",
      "1       34.4\n",
      "2       40.4\n",
      "3       50.1\n",
      "4       52.6\n",
      "        ... \n",
      "2949    49.4\n",
      "2950    31.7\n",
      "2951    55.0\n",
      "2952    42.5\n",
      "2953    36.7\n",
      "Name: Series_Complete_Pop_Pct, Length: 2954, dtype: float64\n",
      "0      45.4\n",
      "1      34.2\n",
      "2      19.4\n",
      "3      31.7\n",
      "4      28.3\n",
      "       ... \n",
      "995    49.4\n",
      "996    52.2\n",
      "997    42.1\n",
      "998    33.1\n",
      "999    37.8\n",
      "Name: Series_Complete_Pop_Pct, Length: 1000, dtype: float64\n"
     ]
    }
   ],
   "metadata": {}
  },
  {
   "cell_type": "code",
   "execution_count": null,
   "source": [
    "# Please use the space below for running code for cleaning your data set and saving output in the Clean_Data directory"
   ],
   "outputs": [],
   "metadata": {}
  },
  {
   "cell_type": "code",
   "execution_count": null,
   "source": [
    "# Eugene's codes start here\r\n"
   ],
   "outputs": [],
   "metadata": {}
  },
  {
   "cell_type": "code",
   "execution_count": null,
   "source": [
    "# Eugene's codes end here"
   ],
   "outputs": [],
   "metadata": {}
  },
  {
   "cell_type": "code",
   "execution_count": null,
   "source": [
    "# Feipeng's codes start here"
   ],
   "outputs": [],
   "metadata": {}
  },
  {
   "cell_type": "code",
   "execution_count": null,
   "source": [
    "# Feipeng's codes end here"
   ],
   "outputs": [],
   "metadata": {}
  },
  {
   "cell_type": "code",
   "execution_count": null,
   "source": [
    "# Ricardo's codes start here"
   ],
   "outputs": [],
   "metadata": {}
  },
  {
   "cell_type": "code",
   "execution_count": null,
   "source": [
    "# Ricardo's codes end here"
   ],
   "outputs": [],
   "metadata": {}
  },
  {
   "cell_type": "code",
   "execution_count": null,
   "source": [
    "# Jenny's codes start here"
   ],
   "outputs": [],
   "metadata": {}
  },
  {
   "cell_type": "code",
   "execution_count": null,
   "source": [
    "# Jenny's codes end here"
   ],
   "outputs": [],
   "metadata": {}
  }
 ],
 "metadata": {
  "kernelspec": {
   "display_name": "Python 3",
   "language": "python",
   "name": "python3"
  },
  "language_info": {
   "codemirror_mode": {
    "name": "ipython",
    "version": 3
   },
   "file_extension": ".py",
   "mimetype": "text/x-python",
   "name": "python",
   "nbconvert_exporter": "python",
   "pygments_lexer": "ipython3",
   "version": "3.8.8"
  }
 },
 "nbformat": 4,
 "nbformat_minor": 5
}