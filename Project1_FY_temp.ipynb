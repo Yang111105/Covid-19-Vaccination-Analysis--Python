{
 "cells": [
  {
   "cell_type": "code",
   "execution_count": null,
   "id": "98b377ae",
   "metadata": {},
   "outputs": [],
   "source": [
    "import pandas as pd\n",
    "import numpy as np\n",
    "import matplotlib.pyplot as plt\n",
    "import scipy.stats as st\n",
    "from scipy.stats import linregress"
   ]
  },
  {
   "cell_type": "code",
   "execution_count": null,
   "id": "d0a8c75a",
   "metadata": {},
   "outputs": [],
   "source": [
    "# Get vaccination data from Clean_data/vaccine_us_county_clean.csv\n",
    "fy_v_df = pd.read_csv(\"Clean_data/vaccine_us_county_clean.csv\",low_memory=False)\n",
    "fy_vaccine_df = fy_v_df[['Date', 'FIPS','Series_Complete_Pop_Pct']].copy()\n",
    "fy_vaccine_df.head()"
   ]
  },
  {
   "cell_type": "code",
   "execution_count": null,
   "id": "a73fd50b",
   "metadata": {},
   "outputs": [],
   "source": [
    "# get the latest data for each county\n",
    "fy_vaccine_df = fy_vaccine_df.drop_duplicates(subset='FIPS', keep='first')\n",
    "fy_vaccine_df.shape"
   ]
  },
  {
   "cell_type": "code",
   "execution_count": null,
   "id": "5dfc60a9",
   "metadata": {},
   "outputs": [],
   "source": [
    "# rename columns for vaccine data\n",
    "fy_vaccine_df = fy_vaccine_df.rename(columns={\"FIPS\": \"fips\", \"Series_Complete_Pop_Pct\": \"covid_vaccine_rate\"})\n",
    "fy_vaccine_df.head()"
   ]
  },
  {
   "cell_type": "code",
   "execution_count": null,
   "id": "c4efbfbd",
   "metadata": {},
   "outputs": [],
   "source": [
    "fy_vaccine_df.dtypes"
   ]
  },
  {
   "cell_type": "code",
   "execution_count": null,
   "id": "f02aabbc",
   "metadata": {},
   "outputs": [],
   "source": [
    "fy_vaccine_df = fy_vaccine_df.astype({\"fips\": str})\n",
    "fy_vaccine_df.shape"
   ]
  },
  {
   "cell_type": "code",
   "execution_count": null,
   "id": "cf52b115",
   "metadata": {},
   "outputs": [],
   "source": [
    "# Get Sociohealth data from \"02_us_county_sociohealth_data\"\n",
    "fy_soci_df = pd.read_csv(\"Resource/02_us_county_sociohealth_data.csv\",low_memory=False)\n",
    "fy_soci_df.head()"
   ]
  },
  {
   "cell_type": "code",
   "execution_count": null,
   "id": "49844157",
   "metadata": {},
   "outputs": [],
   "source": [
    "fy_soci_df.shape"
   ]
  },
  {
   "cell_type": "code",
   "execution_count": null,
   "id": "d68c518f",
   "metadata": {},
   "outputs": [],
   "source": [
    "# Merge vaccine data with Sociohealth data\n",
    "fy_df = pd.merge(fy_vaccine_df, fy_soci_df, on = 'fips')\n",
    "fy_df.shape"
   ]
  },
  {
   "cell_type": "code",
   "execution_count": null,
   "id": "21f6b5d3",
   "metadata": {},
   "outputs": [],
   "source": [
    "# put the columns in a list\n",
    "columns = list(fy_df.columns)\n",
    "column_data = columns[7:(len(columns))]"
   ]
  },
  {
   "cell_type": "code",
   "execution_count": null,
   "id": "8883f5d8",
   "metadata": {
    "scrolled": false
   },
   "outputs": [],
   "source": [
    "rsquared = []\n",
    "for column in column_data:\n",
    "    try:\n",
    "        temp = fy_df[['covid_vaccine_rate', column]].dropna()\n",
    "        temp = temp.loc[temp['covid_vaccine_rate']!=0]\n",
    "        y_values = temp['covid_vaccine_rate']\n",
    "        x_values = temp[column]\n",
    "        (slope, intercept, rvalue, pvalue, stderr) = linregress(x_values, y_values)\n",
    "        # regress_values = x_values * slope + intercept\n",
    "        # line_eq = \"y = \" + str(round(slope,2)) + \"x + \" + str(round(intercept,2))\n",
    "        # plt.scatter(x_values,y_values)\n",
    "        # plt.plot(x_values,regress_values,\"r-\")\n",
    "        # plt.annotate(line_eq,(0,85),fontsize=15,color=\"red\")\n",
    "        # plt.xlabel(columns[2])\n",
    "        # plt.ylabel(columns[9])\n",
    "        rsquared.append(rvalue**2)\n",
    "        if rvalue**2 > 0.15:\n",
    "            plt.figure(figsize=(8,5))\n",
    "            print(f\"The r-squared for {column} is: {rvalue**2}, solpe is {slope}\")\n",
    "            plt.scatter(x_values,y_values)\n",
    "#             plt.plot(x_values,regress_values,\"r-\")\n",
    "#             plt.annotate(line_eq,(0,85),fontsize=15,color=\"red\")\n",
    "            plt.xlabel(column)\n",
    "            plt.ylabel('covid_vaccine_rate')\n",
    "#             plt.savefig(f'{column}.png', dpi=300)\n",
    "#             plt.show()\n",
    "        \n",
    "    except:\n",
    "        print(f\"The r-squared for {column} is not available\")"
   ]
  }
 ],
 "metadata": {
  "kernelspec": {
   "display_name": "Python 3",
   "language": "python",
   "name": "python3"
  },
  "language_info": {
   "codemirror_mode": {
    "name": "ipython",
    "version": 3
   },
   "file_extension": ".py",
   "mimetype": "text/x-python",
   "name": "python",
   "nbconvert_exporter": "python",
   "pygments_lexer": "ipython3",
   "version": "3.8.8"
  }
 },
 "nbformat": 4,
 "nbformat_minor": 5
}
