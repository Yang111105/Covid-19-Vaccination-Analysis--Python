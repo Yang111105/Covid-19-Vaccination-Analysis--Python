{
 "cells": [
  {
   "cell_type": "code",
   "execution_count": null,
   "id": "8c51c735",
   "metadata": {},
   "outputs": [],
   "source": [
    "import pandas as pd\n",
    "import numpy as np\n",
    "import matplotlib.pyplot as plt\n",
    "import scipy.stats as st"
   ]
  },
  {
   "cell_type": "code",
   "execution_count": null,
   "id": "fae7eb7c",
   "metadata": {},
   "outputs": [],
   "source": [
    "# Jenny's codes start here\n",
    "vaccine_county = pd.read_csv(\"Clean_data/vaccine_us_county_clean.csv\",low_memory=False)"
   ]
  },
  {
   "cell_type": "code",
   "execution_count": null,
   "id": "1dcec88d",
   "metadata": {},
   "outputs": [],
   "source": [
    "vaccine_county_rename = vaccine_county.rename(columns={\"Recip_County\": \"County\", \"Series_Complete_Pop_Pct\": \"Vaccination_Complete_Pct\",\"Recip_State\":\"State\"})\n",
    "vaccine_county_rename.head()"
   ]
  },
  {
   "cell_type": "code",
   "execution_count": null,
   "id": "119e4d34",
   "metadata": {},
   "outputs": [],
   "source": [
    "svi_df = pd.read_csv(\"Resource/04_siv_county.csv\",low_memory=False)\n",
    "svi_df = svi_df.dropna()\n",
    "svi_df_rename = svi_df.rename(columns={\"FIPS Code\": \"FIPS\", \"County Name\": \"County\"})"
   ]
  },
  {
   "cell_type": "code",
   "execution_count": null,
   "id": "e4f3fe18",
   "metadata": {},
   "outputs": [],
   "source": [
    "svi_df_rename['County'] = svi_df_rename['County'].str.split(',', expand=True)[0]"
   ]
  },
  {
   "cell_type": "code",
   "execution_count": null,
   "id": "b144d79d",
   "metadata": {},
   "outputs": [],
   "source": [
    "vaccine_svi_df = pd.merge(vaccine_county_rename, svi_df_rename, on='FIPS')\n",
    "vaccine_svi_df = vaccine_svi_df[['Date','FIPS','County_x','State_x','Vaccination_Complete_Pct','Metro_status','Social Vulnerability Index (SVI)','SVI Category']] \n",
    "vaccine_svi_df = vaccine_svi_df.rename(columns={\"County_x\": \"County\",\"State_x\": \"State\"})"
   ]
  },
  {
   "cell_type": "code",
   "execution_count": null,
   "id": "6f493db0",
   "metadata": {},
   "outputs": [],
   "source": [
    "# Jenny's codes end here\n",
    "vaccine_svi_df.to_csv(\"Clean_data/vaccine_svi_df.csv\", encoding=\"utf-8\", index=False)"
   ]
  }
 ],
 "metadata": {
  "kernelspec": {
   "display_name": "Python 3",
   "language": "python",
   "name": "python3"
  },
  "language_info": {
   "codemirror_mode": {
    "name": "ipython",
    "version": 3
   },
   "file_extension": ".py",
   "mimetype": "text/x-python",
   "name": "python",
   "nbconvert_exporter": "python",
   "pygments_lexer": "ipython3",
   "version": "3.8.8"
  }
 },
 "nbformat": 4,
 "nbformat_minor": 5
}
