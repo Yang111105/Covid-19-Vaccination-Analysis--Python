{
 "cells": [
  {
   "cell_type": "code",
   "execution_count": null,
   "id": "06fcab55",
   "metadata": {},
   "outputs": [],
   "source": [
    "import pandas as pd\n",
    "import numpy as np\n",
    "import matplotlib.pyplot as plt\n",
    "import scipy.stats as st\n",
    "from scipy.stats import linregress\n",
    "import gmaps\n",
    "import os\n",
    "\n",
    "# Import API key\n",
    "#from api_keys import g_key\n",
    "#gmaps.configure(api_key=g_key)\n",
    "\n",
    "import warnings\n",
    "warnings.filterwarnings(\"ignore\")\n",
    "\n",
    "# import modules\n",
    "import gmaps.geojson_geometries\n",
    "from matplotlib.cm import viridis\n",
    "from matplotlib.colors import to_hex\n",
    "\n",
    "# load the geometries data for US counties\n",
    "counties_geojson = gmaps.geojson_geometries.load_geometry('us-counties')"
   ]
  },
  {
   "cell_type": "code",
   "execution_count": null,

   "id": "2823fb26",

   "metadata": {},
   "outputs": [],
   "source": [
    "#The space below is used for analysis of the data from the Clean_Data directory"
   ]
  },
  {
   "cell_type": "code",
   "execution_count": null,
   "id": "a9c43652",
   "metadata": {},
   "outputs": [],
   "source": [
    "# Eugene's codes start here"
   ]
  },
  {
   "cell_type": "code",
   "execution_count": null,
   "id": "4dd825d6",
   "metadata": {},
   "outputs": [],
   "source": [
    "\n",
    "# Eugene's codes end here"
   ]
  },
  {
   "cell_type": "code",
   "execution_count": null,
   "id": "026507fc",
   "metadata": {},
   "outputs": [],
   "source": [
    "# Feipeng's codes start here"
   ]
  },
  {
   "cell_type": "markdown",
   "id": "cb68ce76",
   "metadata": {},
   "source": [
    "## Feipeng's Codes Start Here\n"
   ]
  },
  {
   "cell_type": "markdown",
   "id": "4d772510",
   "metadata": {},
   "source": [
    "## 1. Calculate the correlations of factors to have an overview of the data"
   ]
  },
  {
   "cell_type": "code",
   "execution_count": null,

   "id": "d683b744",

   "metadata": {},
   "outputs": [],
   "source": [
    "# read clean data from fy_clean_data\n",
    "fy_df = pd.read_csv(\"Clean_data/fy_clean_data.csv\",low_memory=False)\n",
    "fy_df.head()"
   ]
  },
  {
   "cell_type": "code",
   "execution_count": null,
   "id": "77013d33",
   "metadata": {
    "scrolled": false
   },
   "outputs": [],
   "source": [
    "# Calculate the correlation between \"covid_vaccine_rate\" and all factors in the dataframe\n",
    "# put the columns in a list\n",
    "columns = list(fy_df.columns)\n",
    "column_data = columns[7:(len(columns))]\n",
    "# define list to store factor\n",
    "factors = []\n",
    "# define list to store rsquared \n",
    "rsquared = []\n",
    "for column in column_data:\n",
    "    try:\n",
    "        temp = fy_df[['covid_vaccine_rate', column]].dropna()\n",
    "        temp = temp.loc[temp['covid_vaccine_rate']!=0]\n",
    "        y_values = temp['covid_vaccine_rate']\n",
    "        x_values = temp[column]\n",
    "        (slope, intercept, rvalue, pvalue, stderr) = linregress(x_values, y_values)\n",
    "        factors.append(column)\n",
    "        rsquared.append(rvalue**2)\n",
    "    except:\n",
    "        pass"
   ]
  },
  {
   "cell_type": "code",
   "execution_count": null,
   "id": "396abbdd",
   "metadata": {},
   "outputs": [],
   "source": [
    "# put the factors and rsquard into a dataframe\n",
    "factors_df = pd.DataFrame({'factor':factors, 'rsquared':rsquared})\n",
    "factors_df = factors_df.sort_values('rsquared', ascending=False, ignore_index=True)\n",
    "factors_df.head()"
   ]
  },
  {
   "cell_type": "code",
   "execution_count": null,
   "id": "179103ec",
   "metadata": {},
   "outputs": [],
   "source": [
    "# Plot the rsquared for all factors\n",
    "x_values = factors_df['factor']\n",
    "y_values = factors_df['rsquared']\n",
    "\n",
    "# Plot the highest 20 factors\n",
    "plt.figure(figsize=(10,8))\n",
    "plt.bar(x_values[0:20], y_values[0:20], facecolor='r', edgecolor='black',alpha=0.5)\n",
    "plt.title('Factors with relatively high correlations (20)')\n",
    "plt.xlabel(\"Factors\")\n",
    "plt.ylabel('r-squared')\n",
    "plt.ylim(0,0.25)\n",
    "plt.xticks(x_values[0:20])\n",
    "plt.xticks(rotation = 90)\n",
    "plt.tight_layout()\n",
    "plt.savefig('Images/Factors_with_high_correlations.jpg', dpi=300)\n",
    "plt.show()\n",
    "\n",
    "# Plot the lowest 20 factors\n",
    "plt.figure(figsize=(10,8))\n",
    "plt.bar(x_values[-21:-1], y_values[-21:-1], facecolor='r', edgecolor='black',alpha=0.5)\n",
    "plt.title('Factors with relatively low correlations (20)')\n",
    "plt.xlabel(\"Factors\")\n",
    "plt.ylabel('r-squared')\n",
    "plt.ylim(0,0.25)\n",
    "plt.xticks(x_values[-21:-1])\n",
    "plt.xticks(rotation = 90)\n",
    "plt.tight_layout()\n",
    "plt.savefig('Images/Factors_with_low_correlations.jpg', dpi=300)\n",
    "plt.show()"
   ]
  },
  {
   "cell_type": "markdown",
   "id": "524b043e",
   "metadata": {},
   "source": [
    "## 2. Explore the effect of \"percent_uninsured\" on \"covid_vaccine_rate\""
   ]
  },
  {
   "cell_type": "code",
   "execution_count": null,
   "id": "b07da30c",
   "metadata": {},
   "outputs": [],
   "source": [
    "insurance_df = fy_df[['covid_vaccine_rate', 'fips', 'percent_uninsured']].dropna()\n",
    "# insurance = fy_df.loc[fy_df['covid_vaccine_rate']!=0]\n",
    "x_values = insurance_df['percent_uninsured']\n",
    "y_values = insurance_df['covid_vaccine_rate']\n",
    "plt.figure(figsize=(8,5))\n",
    "(slope, intercept, rvalue, pvalue, stderr) = linregress(x_values, y_values)\n",
    "regress_values = x_values * slope + intercept\n",
    "line_eq = \"y = \" + str(round(slope,2)) + \"x + \" + str(round(intercept,2))\n",
    "plt.scatter(x_values, y_values, facecolor='cyan', edgecolor='black',alpha=0.6)\n",
    "plt.plot(x_values,regress_values,\"r-\")\n",
    "plt.annotate(line_eq,(18,80),fontsize=15,color=\"red\")\n",
    "plt.xlabel('percent_uninsured')\n",
    "plt.ylabel('covid_vaccine_rate')\n",
    "plt.title('Vaccination Rate vs. Uninsured Rate')\n",
    "print(f\"The r-squared for 'percent_uninsured' is: {rvalue**2}\")\n",
    "plt.tight_layout()\n",
    "plt.savefig('Images/Vaccination_Rate_vs_Uninsured_Rate_plot.jpg', dpi=300)\n",
    "plt.show()"
   ]
  },
  {
   "cell_type": "code",
   "execution_count": null,
   "id": "17501a76",
   "metadata": {},
   "outputs": [],
   "source": [
    "# Create the bins in which Data will be held\n",
    "# Bins are 0, 59.9, 69.9, 79.9, 89.9, 100.   \n",
    "bins = [0, 5, 10, 15, 20, 25, 30]\n",
    "\n",
    "# Create the names for the five bins\n",
    "group_names = [\"lowest\", \"low\", \"moderate low\", \"moderate high\", \"high\", \"highest\"]\n",
    "\n",
    "insurance_df[\"uninsured_rate\"] = pd.cut(insurance_df[\"percent_uninsured\"], bins, right=False, labels=group_names, include_lowest=True)\n",
    "insurance_df = insurance_df.reset_index(drop=True)\n",
    "insurance_df.head()"
   ]
  },
  {
   "cell_type": "code",
   "execution_count": null,
   "id": "0a17f660",
   "metadata": {},
   "outputs": [],
   "source": [
    "# put the data into each category. \n",
    "lowest = insurance_df.loc[insurance_df['uninsured_rate']=='lowest']['covid_vaccine_rate']\n",
    "low = insurance_df.loc[insurance_df['uninsured_rate']=='low']['covid_vaccine_rate']\n",
    "moderate_low = insurance_df.loc[insurance_df['uninsured_rate']=='moderate low']['covid_vaccine_rate']\n",
    "moderate_high = insurance_df.loc[insurance_df['uninsured_rate']=='moderate high']['covid_vaccine_rate']\n",
    "high = insurance_df.loc[insurance_df['uninsured_rate']=='high']['covid_vaccine_rate']\n",
    "highest = insurance_df.loc[insurance_df['uninsured_rate']=='highest']['covid_vaccine_rate']\n",
    "\n",
    "# Plot the boxplot\n",
    "data = [lowest, low, moderate_low, moderate_high, high, highest]\n",
    "plt.figure(figsize=(10,5))\n",
    "plt.boxplot(data)\n",
    "plt.xticks([1,2,3,4,5,6],['lowest', 'low', 'moderate_low', 'moderate_high', 'high', 'highest'])\n",
    "plt.grid(linestyle='-', linewidth=0.2)\n",
    "plt.title('Vaccination Rate vs. Uninsured Rate')\n",
    "plt.xlabel(\"Uninsured Rate\")\n",
    "plt.ylabel('Vaccination Rate')\n",
    "plt.tight_layout()\n",
    "plt.savefig('Images/Vaccination_Rate_vs_Uninsured_Rate_box.png', dpi=300)\n",
    "plt.show()"
   ]
  },
  {
   "cell_type": "code",
   "execution_count": null,
   "id": "35e67a40",
   "metadata": {},
   "outputs": [],
   "source": [
    "st.f_oneway(lowest, low, moderate_low, moderate_high, high, highest)"
   ]
  },
  {
   "cell_type": "markdown",
   "id": "486b091c",
   "metadata": {},
   "source": [
    "## 3. Use gmaps to visulize the vaccination rate"
   ]
  },
  {
   "cell_type": "code",
   "execution_count": null,
   "id": "e783249c",
   "metadata": {},
   "outputs": [],
   "source": [
    "# Generate color data for each county base on each factor\n",
    "factor = fy_df['covid_vaccine_rate']\n",
    "\n",
    "# Scale the factor values to lie between 0 and 1\n",
    "min_data = min(factor)\n",
    "max_data = max(factor)\n",
    "data_range = max_data - min_data\n",
    "\n",
    "def calculate_color(current_data):\n",
    "    # make factor a number between 0 and 1\n",
    "    normalized_data = (current_data - min_data) / data_range\n",
    "    # transform the gini coefficient to a matplotlib color\n",
    "    mpl_color = viridis(normalized_data)\n",
    "    # transform from a matplotlib color to a valid CSS color\n",
    "    gmaps_color = to_hex(mpl_color, keep_alpha=False)\n",
    "    return gmaps_color\n",
    "\n",
    "# Generate colors list\n",
    "fy_df_map = fy_df[['covid_vaccine_rate', 'fips']].dropna()\n",
    "colors = []\n",
    "for county in counties_geojson['features']:\n",
    "    county_fips = county['properties']['GEO_ID'][-5:]\n",
    "    try:\n",
    "        value = fy_df_map.loc[fy_df_map['fips']== county_fips, 'covid_vaccine_rate'].iloc[0]\n",
    "        color = calculate_color(value)\n",
    "    except:\n",
    "        # no data for that county: return default color\n",
    "        color = (0, 0, 0, 0.3)\n",
    "    colors.append(color)\n",
    "\n",
    "# Set the figure layout\n",
    "figure_layout = {\n",
    "    'width': '800px',\n",
    "    'height': '500px',\n",
    "    'border': '1px solid black',\n",
    "    'padding': '1px'\n",
    "}\n",
    "\n",
    "# Create the gmap \n",
    "fig = gmaps.figure(layout=figure_layout)\n",
    "\n",
    "# Generate the layer with factors\n",
    "factor_layer = gmaps.geojson_layer(counties_geojson,\n",
    "                                    fill_color=colors,\n",
    "                                    stroke_color=colors,\n",
    "                                    fill_opacity=1)\n",
    "fig.add_layer(factor_layer)\n",
    "fig"
   ]
  },
  {
   "cell_type": "markdown",
   "id": "4340c164",
   "metadata": {},
   "source": [
    "## 4. Use gmaps to visulize the percent_uninsured rate"
   ]
  },
  {
   "cell_type": "code",
   "execution_count": null,
   "id": "ae4835f8",
   "metadata": {},
   "outputs": [],
   "source": [
    "# Generate color data for each county base on each factor\n",
    "factor = fy_df['percent_uninsured']\n",
    "\n",
    "# Scale the factor values to lie between 0 and 1\n",
    "min_data = min(factor)\n",
    "max_data = max(factor)\n",
    "data_range = max_data - min_data\n",
    "\n",
    "def calculate_color(current_data):\n",
    "    # make factor a number between 0 and 1\n",
    "    normalized_data = (current_data - min_data) / data_range\n",
    "    # transform the gini coefficient to a matplotlib color\n",
    "    mpl_color = viridis(normalized_data)\n",
    "    # transform from a matplotlib color to a valid CSS color\n",
    "    gmaps_color = to_hex(mpl_color, keep_alpha=False)\n",
    "    return gmaps_color\n",
    "\n",
    "# Generate colors list\n",
    "fy_df_map = fy_df[['percent_uninsured', 'fips']].dropna()\n",
    "colors = []\n",
    "for county in counties_geojson['features']:\n",
    "    county_fips = county['properties']['GEO_ID'][-5:]\n",
    "    try:\n",
    "        value = fy_df_map.loc[fy_df_map['fips']== county_fips, 'percent_uninsured'].iloc[0]\n",
    "        color = calculate_color(value)\n",
    "    except:\n",
    "        # no data for that county: return default color\n",
    "        color = (0, 0, 0, 0.3)\n",
    "    colors.append(color)\n",
    "\n",
    "# Set the figure layout\n",
    "figure_layout = {\n",
    "    'width': '800px',\n",
    "    'height': '500px',\n",
    "    'border': '1px solid black',\n",
    "    'padding': '1px'\n",
    "}\n",
    "\n",
    "# Create the gmap \n",
    "fig = gmaps.figure(layout=figure_layout)\n",
    "\n",
    "# Generate the layer with factors\n",
    "factor_layer = gmaps.geojson_layer(counties_geojson,\n",
    "                                    fill_color=colors,\n",
    "                                    stroke_color=colors,\n",
    "                                    fill_opacity=1)\n",
    "fig.add_layer(factor_layer)\n",
    "fig"
   ]
  },
  {
   "cell_type": "code",
   "execution_count": null,
   "id": "181226d8",
   "metadata": {},
   "outputs": [],
   "source": []
  },
  {
   "cell_type": "code",
   "execution_count": null,
   "id": "3f2d2f1c",
   "metadata": {},
   "outputs": [],
   "source": [
    "# Feipeng's codes end here"
   ]
  },
  {
   "cell_type": "code",
   "execution_count": null,
   "id": "60f2a638",
   "metadata": {},
   "outputs": [],
   "source": [
    "# Ricardo's codes start here\n",
    "\n",
    "vaccine_socio_df= pd.read_csv(\"Clean_data/vaccine_socio_df.csv\",low_memory=False)\n",
    "vaccine_socio_df"
   ]
  },
  {
   "cell_type": "code",
   "execution_count": null,
   "id": "daa69147",
   "metadata": {},
   "outputs": [],
   "source": [
    "x_values = vaccine_socio_df['per_capita_income']\n",
    "y_values = vaccine_socio_df['Vaccination_Complete_Pct']\n",
    "(slope, intercept, rvalue, pvalue, stderr) = linregress(x_values, y_values)\n",
    "regress_values = x_values * slope + intercept\n",
    "line_eq = \"y = \" + str(round(slope,2)) + \"x + \" + str(round(intercept,2))\n",
    "plt.scatter(x_values,y_values)\n",
    "plt.plot(x_values,regress_values,\"r-\")\n",
    "plt.annotate(line_eq,(42000,20),fontsize=15,color=\"red\")\n",
    "plt.title('Vaccination Rate vs Per Capita Income')\n",
    "plt.xlabel('Per Capita Income')\n",
    "plt.ylabel('Vaccination Rate Percentage')\n",
    "print(f\"The r value is: {rvalue}\")\n",
    "print(f\"The r-squared is: {rvalue**2}\")\n",
    "plt.show()"
   ]
  },
  {
   "cell_type": "code",
   "execution_count": null,
   "id": "9307dad1",
   "metadata": {},
   "outputs": [],
   "source": [
    "x_values = vaccine_socio_df['median_household_income']\n",
    "y_values = vaccine_socio_df['Vaccination_Complete_Pct']\n",
    "(slope, intercept, rvalue, pvalue, stderr) = linregress(x_values, y_values)\n",
    "regress_values = x_values * slope + intercept\n",
    "line_eq = \"y = \" + str(round(slope,2)) + \"x + \" + str(round(intercept,2))\n",
    "plt.scatter(x_values,y_values)\n",
    "plt.plot(x_values,regress_values,\"r-\")\n",
    "plt.annotate(line_eq,(80000,15),fontsize=15,color=\"red\")\n",
    "plt.title('Vaccination Rate vs Median Household Income')\n",
    "plt.xlabel('Median Household Income')\n",
    "plt.ylabel('Vaccination Rate Percentage')\n",
    "print(f\"The r value is: {rvalue}\")\n",
    "print(f\"The r-squared is: {rvalue**2}\")\n",
    "plt.show()"
   ]
  },
  {
   "cell_type": "code",
   "execution_count": null,

   "id": "336221e2",
   "metadata": {},
   "outputs": [],
   "source": [
    "# Anova Test: - vaccination rates from counties with different median household incomes"
   ]
  },
  {
   "cell_type": "code",
   "execution_count": null,
   "id": "1a0219d5",
   "metadata": {},
   "outputs": [],
   "source": [
    "first_sextile= vaccine_socio_df.loc[vaccine_socio_df['median_household_income']<40000]['Vaccination_Complete_Pct']\n",
    "second_sextile =vaccine_socio_df.loc[(vaccine_socio_df['median_household_income']>=40000) & (vaccine_socio_df['median_household_income']<60000)]['Vaccination_Complete_Pct']\n",
    "third_sextile =vaccine_socio_df.loc[(vaccine_socio_df['median_household_income']>=60000) & (vaccine_socio_df['median_household_income']<80000)]['Vaccination_Complete_Pct']\n",
    "fourth_sextile =vaccine_socio_df.loc[(vaccine_socio_df['median_household_income']>=80000) & (vaccine_socio_df['median_household_income']<100000)]['Vaccination_Complete_Pct']\n",
    "fifth_sextile =vaccine_socio_df.loc[(vaccine_socio_df['median_household_income']>=100000) & (vaccine_socio_df['median_household_income']<120000)]['Vaccination_Complete_Pct']\n",
    "sixth_sextile =vaccine_socio_df.loc[(vaccine_socio_df['median_household_income']>=120000) & (vaccine_socio_df['median_household_income']<140000)]['Vaccination_Complete_Pct']\n"
   ]
  },
  {
   "cell_type": "code",
   "execution_count": null,
   "id": "e16134f0",
   "metadata": {},
   "outputs": [],
   "source": [
    "st.f_oneway(first_sextile,second_sextile,third_sextile,fourth_sextile,fifth_sextile,sixth_sextile)"
   ]
  },
  {
   "cell_type": "code",
   "execution_count": null,
   "id": "a527b296",
   "metadata": {},
   "outputs": [],
   "source": [
    "first_sextile_PC= vaccine_socio_df.loc[vaccine_socio_df['per_capita_income']<10000]['Vaccination_Complete_Pct']\n",
    "second_sextile_PC =vaccine_socio_df.loc[(vaccine_socio_df['per_capita_income']>=10000) & (vaccine_socio_df['per_capita_income']<20000)]['Vaccination_Complete_Pct']\n",
    "third_sextile_PC =vaccine_socio_df.loc[(vaccine_socio_df['per_capita_income']>=20000) & (vaccine_socio_df['per_capita_income']<30000)]['Vaccination_Complete_Pct']\n",
    "fourth_sextile_PC =vaccine_socio_df.loc[(vaccine_socio_df['per_capita_income']>=30000) & (vaccine_socio_df['per_capita_income']<40000)]['Vaccination_Complete_Pct']\n",
    "fifth_sextile_PC =vaccine_socio_df.loc[(vaccine_socio_df['per_capita_income']>=40000) & (vaccine_socio_df['per_capita_income']<50000)]['Vaccination_Complete_Pct']\n",
    "sixth_sextile_PC =vaccine_socio_df.loc[(vaccine_socio_df['per_capita_income']>=50000) & (vaccine_socio_df['per_capita_income']<60000)]['Vaccination_Complete_Pct']"
   ]
  },
  {
   "cell_type": "code",
   "execution_count": null,
   "id": "68dd1214",
   "metadata": {},
   "outputs": [],
   "source": [
    "st.f_oneway(first_sextile_PC,second_sextile_PC,third_sextile_PC,fourth_sextile_PC,fifth_sextile_PC,sixth_sextile_PC)"
   ]
  },
  {
   "cell_type": "code",
   "execution_count": null,
   "id": "24b72ee7",
   "metadata": {},
   "outputs": [],
   "source": [
    "# Ricardo's codes end here"
   ]
  },
  {
   "cell_type": "code",
   "execution_count": null,

   "id": "3dcdb8b4",
   "metadata": {},
   "outputs": [],
   "source": [
    "# Jenny's codes start here"
   ]
  },
  {
   "cell_type": "code",
   "execution_count": null,
   "id": "388b10b8",
   "metadata": {},
   "outputs": [],
   "source": [
    "vaccine_county_coord = pd.read_csv(\"Clean_data/vaccine_county_coord.csv\",low_memory=False)"
   ]
  },
  {
   "cell_type": "code",
   "execution_count": null,
   "id": "fe9fc8e6",
   "metadata": {},
   "outputs": [],
   "source": [
    "vaccinate_stats = vaccine_county_coord.Vaccination_Complete_Pct.describe()\n",
    "vaccinate_stats"
   ]
  },
  {
   "cell_type": "code",
   "execution_count": null,
   "id": "82903b31",
   "metadata": {},
   "outputs": [],
   "source": [
    "iqr = vaccinate_stats[6]-vaccinate_stats[4]\n",
    "lower_bound = round(vaccinate_stats[4] - (1.5*iqr),2)\n",
    "upper_bound = round(vaccinate_stats[6] + (1.5*iqr), 2)\n",
    "print(f\"Values below {lower_bound} could be outliers.\")\n",
    "print(f\"Values above {upper_bound} could be outliers.\")"
   ]
  },
  {
   "cell_type": "code",
   "execution_count": null,
   "id": "a530cc43",
   "metadata": {},
   "outputs": [],
   "source": [
    "vaccine_county_coord.boxplot('Vaccination_Complete_Pct')\n",
    "plt.show()"
   ]
  },
  {
   "cell_type": "code",
   "execution_count": null,
   "id": "d467b06c",
   "metadata": {},
   "outputs": [],
   "source": [
    "plt.hist(vaccine_county_coord.Vaccination_Complete_Pct)\n",
    "plt.xlabel('Vaccination (%)')\n",
    "plt.ylabel('Counts')\n",
    "plt.show()\n",
    "print(st.normaltest(vaccine_county_coord.Vaccination_Complete_Pct))"
   ]
  },
  {
   "cell_type": "code",
   "execution_count": null,
   "id": "3a97d435",
   "metadata": {},
   "outputs": [],
   "source": [
    "locations = vaccine_county_coord[[\"lat\",\"long\"]].astype(float)\n",
    "vaccination_rate = vaccine_county_coord['Vaccination_Complete_Pct']"
   ]
  },
  {
   "cell_type": "code",
   "execution_count": null,
   "id": "81895d71",
   "metadata": {},
   "outputs": [],
   "source": [
    "# fig_layout = {'width': '1000px',\n",
    "#               'height': '600px',\n",
    "#               'border': '1px solid black',\n",
    "#               'padding': '1px',\n",
    "#               'margin': '0 auto 0 auto'\n",
    "#              }\n",
    "# fig = gmaps.figure(layout=fig_layout)\n",
    "# heat_layer = gmaps.heatmap_layer(locations, weights=vaccination_rate, dissipating=False, max_intensity=vaccination_rate.max(), point_radius=0.3)\n",
    "# fig.add_layer(heat_layer)\n",
    "# fig"
   ]
  },
  {
   "cell_type": "markdown",
   "id": "b835b12d",
   "metadata": {},
   "source": [
    "#### Analysis between SVI vs. Viccination by county"
   ]
  },
  {
   "cell_type": "code",
   "execution_count": null,
   "id": "45ea3c19",
   "metadata": {},
   "outputs": [],
   "source": [
    "vaccine_svi_df = pd.read_csv(\"Clean_data/vaccine_svi_df.csv\",low_memory=False)"
   ]
  },
  {
   "cell_type": "code",
   "execution_count": null,
   "id": "4194fe92",
   "metadata": {},
   "outputs": [],
   "source": [
    "vaccine_svi_df.describe()"
   ]
  },
  {
   "cell_type": "code",
   "execution_count": null,
   "id": "88e5ff6c",
   "metadata": {},
   "outputs": [],
   "source": [
    "x_values = vaccine_svi_df['Social Vulnerability Index (SVI)']\n",
    "y_values = vaccine_svi_df['Vaccination_Complete_Pct']\n",
    "(slope, intercept, rvalue, pvalue, stderr) = linregress(x_values, y_values)\n",
    "regress_values = x_values * slope + intercept\n",
    "line_eq = \"y = \" + str(round(slope,2)) + \"x + \" + str(round(intercept,2))\n",
    "plt.scatter(x_values,y_values)\n",
    "plt.plot(x_values,regress_values,\"r-\")\n",
    "plt.annotate(line_eq,(0,85),fontsize=15,color=\"red\")\n",
    "plt.xlabel('Social Vulnerability Index (SVI)')\n",
    "plt.ylabel('Vaccination_Complete_Pct')\n",
    "print(f\"The r value is: {rvalue}\")\n",
    "print(f\"The r-squared is: {rvalue**2}\")\n",
    "plt.show()"
   ]
  },
  {
   "cell_type": "code",
   "execution_count": null,
   "id": "b9a308e0",
   "metadata": {},
   "outputs": [],
   "source": [
    "# Anova Test: H0- vaccination rates from counties with different SVI level of concerns don't have significant difference (same mean)\n",
    "vaccine_svi_df.boxplot('Vaccination_Complete_Pct', by='SVI Category', figsize=(20, 10))\n",
    "plt.show()"
   ]
  },
  {
   "cell_type": "code",
   "execution_count": null,
   "id": "727a334b",
   "metadata": {},
   "outputs": [],
   "source": [
    "svi_very_high_concern = vaccine_svi_df.loc[vaccine_svi_df['SVI Category']=='Very High Concern']['Vaccination_Complete_Pct']\n",
    "svi_high_concern = vaccine_svi_df.loc[vaccine_svi_df['SVI Category']=='High Concern']['Vaccination_Complete_Pct']\n",
    "svi_moderate_concern = vaccine_svi_df.loc[vaccine_svi_df['SVI Category']=='Moderate Concern']['Vaccination_Complete_Pct']\n",
    "svi_low_concern = vaccine_svi_df.loc[vaccine_svi_df['SVI Category']=='Low Concern']['Vaccination_Complete_Pct']\n",
    "svi_very_low_concern = vaccine_svi_df.loc[vaccine_svi_df['SVI Category']=='Very Low Concern']['Vaccination_Complete_Pct']"
   ]
  },
  {
   "cell_type": "code",
   "execution_count": null,
   "id": "67a08f61",
   "metadata": {},
   "outputs": [],
   "source": [
    "st.f_oneway(svi_very_high_concern, svi_high_concern, svi_moderate_concern, svi_low_concern, svi_very_low_concern)"
   ]
  },
  {
   "cell_type": "markdown",
   "id": "853063be",
   "metadata": {},
   "source": [
    "#### Analysis between Party DEM/REP vs. Viccination by county"
   ]
  },
  {
   "cell_type": "code",
   "execution_count": null,
   "id": "97ff5d45",
   "metadata": {},
   "outputs": [],
   "source": [
    "vaccine_election_df = pd.read_csv(\"Clean_data/vaccine_election_df.csv\",low_memory=False)"
   ]
  },
  {
   "cell_type": "code",
   "execution_count": null,
   "id": "fd40bc33",
   "metadata": {
    "scrolled": true
   },
   "outputs": [],
   "source": [
    "vaccine_election_party = vaccine_election_df.loc[vaccine_election_df.won==True]\n",
    "vaccine_election_party.boxplot('Vaccination_Complete_Pct', by='party', figsize=(20, 10))\n",
    "plt.show()"
   ]
  },
  {
   "cell_type": "code",
   "execution_count": null,
   "id": "22555783",
   "metadata": {},
   "outputs": [],
   "source": [
    "vaccine_election_party_vote = vaccine_election_party.groupby('party').mean().Vaccination_Complete_Pct\n",
    "vaccine_election_party_vote.plot(kind='bar',title = 'Vaccination Rate Comparison Dem vs. Rep')\n",
    "plt.ylabel('Average Vaccination Rate (%)')\n",
    "plt.show()"
   ]
  },
  {
   "cell_type": "code",
   "execution_count": null,
   "id": "c9d05da8",
   "metadata": {},
   "outputs": [],
   "source": [
    "# Anova Test: H0- vaccination rates from counties voting for different political parties don't have significant difference (same mean)\n",
    "vaccine_election_dem = vaccine_election_df.loc[(vaccine_election_df.party=='DEM')&(vaccine_election_df.won==True)]['Vaccination_Complete_Pct']\n",
    "vaccine_election_rep = vaccine_election_df.loc[(vaccine_election_df.party=='REP')&(vaccine_election_df.won==True)]['Vaccination_Complete_Pct']"
   ]
  },
  {
   "cell_type": "code",
   "execution_count": null,
   "id": "841de244",
   "metadata": {},
   "outputs": [],
   "source": [
    "st.f_oneway(vaccine_election_dem, vaccine_election_rep)"
   ]
  },
  {
   "cell_type": "code",
   "execution_count": null,
   "id": "2b81224c",
   "metadata": {},
   "outputs": [],
   "source": [
    "# Jenny's codes end here"
   ]
  },
  {
   "cell_type": "code",
   "execution_count": null,
   "id": "25bb2b31",
   "metadata": {},
   "outputs": [],
   "source": []
  }
 ],
 "metadata": {
  "kernelspec": {
   "display_name": "Python 3",
   "language": "python",
   "name": "python3"
  },
  "language_info": {
   "codemirror_mode": {
    "name": "ipython",
    "version": 3
   },
   "file_extension": ".py",
   "mimetype": "text/x-python",
   "name": "python",
   "nbconvert_exporter": "python",
   "pygments_lexer": "ipython3",
   "version": "3.8.8"
  }
 },
 "nbformat": 4,
 "nbformat_minor": 5
}
