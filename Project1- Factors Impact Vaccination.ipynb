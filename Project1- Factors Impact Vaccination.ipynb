{
 "cells": [
  {
   "cell_type": "code",
   "execution_count": null,
   "id": "06fcab55",
   "metadata": {},
   "outputs": [],
   "source": [
    "import pandas as pd\n",
    "import numpy as np\n",
    "import matplotlib.pyplot as plt\n",
    "import scipy.stats as st\n",
    "from scipy.stats import linregress\n",
    "import gmaps\n",
    "import os\n",
    "\n",
    "# Import API key\n",
    "#from api_keys import g_key\n",
    "#gmaps.configure(api_key=g_key)\n",
    "\n",
    "import warnings\n",
    "warnings.filterwarnings(\"ignore\")"
   ]
  },
  {
   "cell_type": "code",
   "execution_count": null,
   "id": "14eb7e0e",
   "metadata": {},
   "outputs": [],
   "source": [
    "#The space below is used for analysis of the data from the Clean_Data directory"
   ]
  },
  {
   "cell_type": "code",
   "execution_count": null,
   "id": "a9c43652",
   "metadata": {},
   "outputs": [],
   "source": [
    "# Eugene's codes start here"
   ]
  },
  {
   "cell_type": "code",
   "execution_count": null,
   "id": "4dd825d6",
   "metadata": {},
   "outputs": [],
   "source": [
    "\n",
    "# Eugene's codes end here"
   ]
  },
  {
   "cell_type": "code",
   "execution_count": null,
   "id": "026507fc",
   "metadata": {},
   "outputs": [],
   "source": [
    "# Feipeng's codes start here"
   ]
  },
  {
   "cell_type": "code",
   "execution_count": null,
   "id": "08447a2f",
   "metadata": {},
   "outputs": [],
   "source": [
    "# Read data from 02_us_county_sociohealth_data\n",
    "fy_df = pd.read_csv(\"Resource/02_us_county_sociohealth_data.csv\",low_memory=False)\n",
    "fy_df.head()"
   ]
  },
  {
   "cell_type": "code",
   "execution_count": null,
   "id": "66177fa8",
   "metadata": {},
   "outputs": [],
   "source": [
    "fy_df.shape"
   ]
  },
  {
   "cell_type": "code",
   "execution_count": null,
   "id": "cd5ae04a",
   "metadata": {},
   "outputs": [],
   "source": []
  },
  {
   "cell_type": "code",
   "execution_count": null,
   "id": "3f2d2f1c",
   "metadata": {},
   "outputs": [],
   "source": [
    "# Feipeng's codes end here"
   ]
  },
  {
   "cell_type": "code",
   "execution_count": null,
   "id": "60f2a638",
   "metadata": {},
   "outputs": [],
   "source": [
    "# Ricardo's codes start here\n",
    "\n",
    "vaccine_socio_df= pd.read_csv(\"Clean_data/vaccine_socio_df.csv\",low_memory=False)\n",
    "vaccine_socio_df"
   ]
  },
  {
   "cell_type": "code",
   "execution_count": null,
   "id": "daa69147",
   "metadata": {},
   "outputs": [],
   "source": [
    "x_values = vaccine_socio_df['per_capita_income']\n",
    "y_values = vaccine_socio_df['Vaccination_Complete_Pct']\n",
    "(slope, intercept, rvalue, pvalue, stderr) = linregress(x_values, y_values)\n",
    "regress_values = x_values * slope + intercept\n",
    "line_eq = \"y = \" + str(round(slope,2)) + \"x + \" + str(round(intercept,2))\n",
    "plt.scatter(x_values,y_values)\n",
    "plt.plot(x_values,regress_values,\"r-\")\n",
    "plt.annotate(line_eq,(42000,20),fontsize=15,color=\"red\")\n",
    "plt.title('Vaccination Rate vs Per Capita Income')\n",
    "plt.xlabel('Per Capita Income')\n",
    "plt.ylabel('Vaccination Rate Percentage')\n",
    "print(f\"The r value is: {rvalue}\")\n",
    "print(f\"The r-squared is: {rvalue**2}\")\n",
    "plt.show()"
   ]
  },
  {
   "cell_type": "code",
   "execution_count": null,
   "id": "9307dad1",
   "metadata": {},
   "outputs": [],
   "source": [
    "x_values = vaccine_socio_df['median_household_income']\n",
    "y_values = vaccine_socio_df['Vaccination_Complete_Pct']\n",
    "(slope, intercept, rvalue, pvalue, stderr) = linregress(x_values, y_values)\n",
    "regress_values = x_values * slope + intercept\n",
    "line_eq = \"y = \" + str(round(slope,2)) + \"x + \" + str(round(intercept,2))\n",
    "plt.scatter(x_values,y_values)\n",
    "plt.plot(x_values,regress_values,\"r-\")\n",
    "plt.annotate(line_eq,(80000,15),fontsize=15,color=\"red\")\n",
    "plt.title('Vaccination Rate vs Median Household Income')\n",
    "plt.xlabel('Median Household Income')\n",
    "plt.ylabel('Vaccination Rate Percentage')\n",
    "print(f\"The r value is: {rvalue}\")\n",
    "print(f\"The r-squared is: {rvalue**2}\")\n",
    "plt.show()"
   ]
  },
  {
   "cell_type": "code",
   "execution_count": null,
   "id": "336221e2",
   "metadata": {},
   "outputs": [],
   "source": [
    "# Anova Test: - vaccination rates from counties with different median household incomes"
   ]
  },
  {
   "cell_type": "code",
   "execution_count": null,
   "id": "1a0219d5",
   "metadata": {},
   "outputs": [],
   "source": [
    "first_sextile= vaccine_socio_df.loc[vaccine_socio_df['median_household_income']<40000]['Vaccination_Complete_Pct']\n",
    "second_sextile =vaccine_socio_df.loc[(vaccine_socio_df['median_household_income']>=40000) & (vaccine_socio_df['median_household_income']<60000)]['Vaccination_Complete_Pct']\n",
    "third_sextile =vaccine_socio_df.loc[(vaccine_socio_df['median_household_income']>=60000) & (vaccine_socio_df['median_household_income']<80000)]['Vaccination_Complete_Pct']\n",
    "fourth_sextile =vaccine_socio_df.loc[(vaccine_socio_df['median_household_income']>=80000) & (vaccine_socio_df['median_household_income']<100000)]['Vaccination_Complete_Pct']\n",
    "fifth_sextile =vaccine_socio_df.loc[(vaccine_socio_df['median_household_income']>=100000) & (vaccine_socio_df['median_household_income']<120000)]['Vaccination_Complete_Pct']\n",
    "sixth_sextile =vaccine_socio_df.loc[(vaccine_socio_df['median_household_income']>=120000) & (vaccine_socio_df['median_household_income']<140000)]['Vaccination_Complete_Pct']\n"
   ]
  },
  {
   "cell_type": "code",
   "execution_count": null,
   "id": "e16134f0",
   "metadata": {},
   "outputs": [],
   "source": [
    "st.f_oneway(first_sextile,second_sextile,third_sextile,fourth_sextile,fifth_sextile,sixth_sextile)"
   ]
  },
  {
   "cell_type": "code",
   "execution_count": null,
   "id": "a527b296",
   "metadata": {},
   "outputs": [],
   "source": [
    "first_sextile_PC= vaccine_socio_df.loc[vaccine_socio_df['per_capita_income']<10000]['Vaccination_Complete_Pct']\n",
    "second_sextile_PC =vaccine_socio_df.loc[(vaccine_socio_df['per_capita_income']>=10000) & (vaccine_socio_df['per_capita_income']<20000)]['Vaccination_Complete_Pct']\n",
    "third_sextile_PC =vaccine_socio_df.loc[(vaccine_socio_df['per_capita_income']>=20000) & (vaccine_socio_df['per_capita_income']<30000)]['Vaccination_Complete_Pct']\n",
    "fourth_sextile_PC =vaccine_socio_df.loc[(vaccine_socio_df['per_capita_income']>=30000) & (vaccine_socio_df['per_capita_income']<40000)]['Vaccination_Complete_Pct']\n",
    "fifth_sextile_PC =vaccine_socio_df.loc[(vaccine_socio_df['per_capita_income']>=40000) & (vaccine_socio_df['per_capita_income']<50000)]['Vaccination_Complete_Pct']\n",
    "sixth_sextile_PC =vaccine_socio_df.loc[(vaccine_socio_df['per_capita_income']>=50000) & (vaccine_socio_df['per_capita_income']<60000)]['Vaccination_Complete_Pct']"
   ]
  },
  {
   "cell_type": "code",
   "execution_count": null,
   "id": "68dd1214",
   "metadata": {},
   "outputs": [],
   "source": [
    "st.f_oneway(first_sextile_PC,second_sextile_PC,third_sextile_PC,fourth_sextile_PC,fifth_sextile_PC,sixth_sextile_PC)"
   ]
  },
  {
   "cell_type": "code",
   "execution_count": null,
   "id": "24b72ee7",
   "metadata": {},
   "outputs": [],
   "source": [
    "# Ricardo's codes end here"
   ]
  },
  {
   "cell_type": "code",
   "execution_count": null,
   "id": "3dcdb8b4",
   "metadata": {},
   "outputs": [],
   "source": [
    "# Jenny's codes start here"
   ]
  },
  {
   "cell_type": "code",
   "execution_count": null,
   "id": "388b10b8",
   "metadata": {},
   "outputs": [],
   "source": [
    "vaccine_county_coord = pd.read_csv(\"Clean_data/vaccine_county_coord.csv\",low_memory=False)"
   ]
  },
  {
   "cell_type": "code",
   "execution_count": null,
   "id": "fe9fc8e6",
   "metadata": {},
   "outputs": [],
   "source": [
    "vaccinate_stats = vaccine_county_coord.Vaccination_Complete_Pct.describe()\n",
    "vaccinate_stats"
   ]
  },
  {
   "cell_type": "code",
   "execution_count": null,
   "id": "82903b31",
   "metadata": {},
   "outputs": [],
   "source": [
    "iqr = vaccinate_stats[6]-vaccinate_stats[4]\n",
    "lower_bound = round(vaccinate_stats[4] - (1.5*iqr),2)\n",
    "upper_bound = round(vaccinate_stats[6] + (1.5*iqr), 2)\n",
    "print(f\"Values below {lower_bound} could be outliers.\")\n",
    "print(f\"Values above {upper_bound} could be outliers.\")"
   ]
  },
  {
   "cell_type": "code",
   "execution_count": null,
   "id": "a530cc43",
   "metadata": {},
   "outputs": [],
   "source": [
    "vaccine_county_coord.boxplot('Vaccination_Complete_Pct')\n",
    "plt.show()"
   ]
  },
  {
   "cell_type": "code",
   "execution_count": null,
   "id": "d467b06c",
   "metadata": {},
   "outputs": [],
   "source": [
    "plt.hist(vaccine_county_coord.Vaccination_Complete_Pct)\n",
    "plt.xlabel('Vaccination (%)')\n",
    "plt.ylabel('Counts')\n",
    "plt.show()\n",
    "print(st.normaltest(vaccine_county_coord.Vaccination_Complete_Pct))"
   ]
  },
  {
   "cell_type": "code",
   "execution_count": null,
   "id": "3a97d435",
   "metadata": {},
   "outputs": [],
   "source": [
    "locations = vaccine_county_coord[[\"lat\",\"long\"]].astype(float)\n",
    "vaccination_rate = vaccine_county_coord['Vaccination_Complete_Pct']"
   ]
  },
  {
   "cell_type": "code",
   "execution_count": null,
   "id": "81895d71",
   "metadata": {},
   "outputs": [],
   "source": [
    "# fig_layout = {'width': '1000px',\n",
    "#               'height': '600px',\n",
    "#               'border': '1px solid black',\n",
    "#               'padding': '1px',\n",
    "#               'margin': '0 auto 0 auto'\n",
    "#              }\n",
    "# fig = gmaps.figure(layout=fig_layout)\n",
    "# heat_layer = gmaps.heatmap_layer(locations, weights=vaccination_rate, dissipating=False, max_intensity=vaccination_rate.max(), point_radius=0.3)\n",
    "# fig.add_layer(heat_layer)\n",
    "# fig"
   ]
  },
  {
   "cell_type": "markdown",
   "id": "b835b12d",
   "metadata": {},
   "source": [
    "#### Analysis between SVI vs. Viccination by county"
   ]
  },
  {
   "cell_type": "code",
   "execution_count": null,
   "id": "45ea3c19",
   "metadata": {},
   "outputs": [],
   "source": [
    "vaccine_svi_df = pd.read_csv(\"Clean_data/vaccine_svi_df.csv\",low_memory=False)"
   ]
  },
  {
   "cell_type": "code",
   "execution_count": null,
   "id": "4194fe92",
   "metadata": {},
   "outputs": [],
   "source": [
    "vaccine_svi_df.describe()"
   ]
  },
  {
   "cell_type": "code",
   "execution_count": null,
   "id": "88e5ff6c",
   "metadata": {},
   "outputs": [],
   "source": [
    "x_values = vaccine_svi_df['Social Vulnerability Index (SVI)']\n",
    "y_values = vaccine_svi_df['Vaccination_Complete_Pct']\n",
    "(slope, intercept, rvalue, pvalue, stderr) = linregress(x_values, y_values)\n",
    "regress_values = x_values * slope + intercept\n",
    "line_eq = \"y = \" + str(round(slope,2)) + \"x + \" + str(round(intercept,2))\n",
    "plt.scatter(x_values,y_values)\n",
    "plt.plot(x_values,regress_values,\"r-\")\n",
    "plt.annotate(line_eq,(0,85),fontsize=15,color=\"red\")\n",
    "plt.xlabel('Social Vulnerability Index (SVI)')\n",
    "plt.ylabel('Vaccination_Complete_Pct')\n",
    "print(f\"The r value is: {rvalue}\")\n",
    "print(f\"The r-squared is: {rvalue**2}\")\n",
    "plt.show()"
   ]
  },
  {
   "cell_type": "code",
   "execution_count": null,
   "id": "b9a308e0",
   "metadata": {},
   "outputs": [],
   "source": [
    "# Anova Test: H0- vaccination rates from counties with different SVI level of concerns don't have significant difference (same mean)\n",
    "vaccine_svi_df.boxplot('Vaccination_Complete_Pct', by='SVI Category', figsize=(20, 10))\n",
    "plt.show()"
   ]
  },
  {
   "cell_type": "code",
   "execution_count": null,
   "id": "727a334b",
   "metadata": {},
   "outputs": [],
   "source": [
    "svi_very_high_concern = vaccine_svi_df.loc[vaccine_svi_df['SVI Category']=='Very High Concern']['Vaccination_Complete_Pct']\n",
    "svi_high_concern = vaccine_svi_df.loc[vaccine_svi_df['SVI Category']=='High Concern']['Vaccination_Complete_Pct']\n",
    "svi_moderate_concern = vaccine_svi_df.loc[vaccine_svi_df['SVI Category']=='Moderate Concern']['Vaccination_Complete_Pct']\n",
    "svi_low_concern = vaccine_svi_df.loc[vaccine_svi_df['SVI Category']=='Low Concern']['Vaccination_Complete_Pct']\n",
    "svi_very_low_concern = vaccine_svi_df.loc[vaccine_svi_df['SVI Category']=='Very Low Concern']['Vaccination_Complete_Pct']"
   ]
  },
  {
   "cell_type": "code",
   "execution_count": null,
   "id": "67a08f61",
   "metadata": {},
   "outputs": [],
   "source": [
    "st.f_oneway(svi_very_high_concern, svi_high_concern, svi_moderate_concern, svi_low_concern, svi_very_low_concern)"
   ]
  },
  {
   "cell_type": "markdown",
   "id": "853063be",
   "metadata": {},
   "source": [
    "#### Analysis between Party DEM/REP vs. Viccination by county"
   ]
  },
  {
   "cell_type": "code",
   "execution_count": null,
   "id": "97ff5d45",
   "metadata": {},
   "outputs": [],
   "source": [
    "vaccine_election_df = pd.read_csv(\"Clean_data/vaccine_election_df.csv\",low_memory=False)"
   ]
  },
  {
   "cell_type": "code",
   "execution_count": null,
   "id": "fd40bc33",
   "metadata": {
    "scrolled": true
   },
   "outputs": [],
   "source": [
    "vaccine_election_party = vaccine_election_df.loc[vaccine_election_df.won==True]\n",
    "vaccine_election_party.boxplot('Vaccination_Complete_Pct', by='party', figsize=(20, 10))\n",
    "plt.show()"
   ]
  },
  {
   "cell_type": "code",
   "execution_count": null,
   "id": "22555783",
   "metadata": {},
   "outputs": [],
   "source": [
    "vaccine_election_party_vote = vaccine_election_party.groupby('party').mean().Vaccination_Complete_Pct\n",
    "vaccine_election_party_vote.plot(kind='bar',title = 'Vaccination Rate Comparison Dem vs. Rep')\n",
    "plt.ylabel('Average Vaccination Rate (%)')\n",
    "plt.show()"
   ]
  },
  {
   "cell_type": "code",
   "execution_count": null,
   "id": "c9d05da8",
   "metadata": {},
   "outputs": [],
   "source": [
    "# Anova Test: H0- vaccination rates from counties voting for different political parties don't have significant difference (same mean)\n",
    "vaccine_election_dem = vaccine_election_df.loc[(vaccine_election_df.party=='DEM')&(vaccine_election_df.won==True)]['Vaccination_Complete_Pct']\n",
    "vaccine_election_rep = vaccine_election_df.loc[(vaccine_election_df.party=='REP')&(vaccine_election_df.won==True)]['Vaccination_Complete_Pct']"
   ]
  },
  {
   "cell_type": "code",
   "execution_count": null,
   "id": "841de244",
   "metadata": {},
   "outputs": [],
   "source": [
    "st.f_oneway(vaccine_election_dem, vaccine_election_rep)"
   ]
  },
  {
   "cell_type": "code",
   "execution_count": null,
   "id": "2b81224c",
   "metadata": {},
   "outputs": [],
   "source": [
    "# Jenny's codes end here"
   ]
  },
  {
   "cell_type": "code",
   "execution_count": null,
   "id": "25bb2b31",
   "metadata": {},
   "outputs": [],
   "source": []
  }
 ],
 "metadata": {
  "kernelspec": {
   "display_name": "Python 3",
   "language": "python",
   "name": "python3"
  },
  "language_info": {
   "codemirror_mode": {
    "name": "ipython",
    "version": 3
   },
   "file_extension": ".py",
   "mimetype": "text/x-python",
   "name": "python",
   "nbconvert_exporter": "python",
   "pygments_lexer": "ipython3",
   "version": "3.8.8"
  }
 },
 "nbformat": 4,
 "nbformat_minor": 5
}
