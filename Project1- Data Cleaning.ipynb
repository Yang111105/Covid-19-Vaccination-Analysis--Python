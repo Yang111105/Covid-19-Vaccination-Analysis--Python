{
 "cells": [
  {
   "cell_type": "code",
   "execution_count": null,
   "id": "8c51c735",
   "metadata": {},
   "outputs": [],
   "source": [
    "import pandas as pd\n",
    "import numpy as np\n",
    "import matplotlib.pyplot as plt\n",
    "import scipy.stats as st"
   ]
  },
  {
   "cell_type": "code",
   "execution_count": null,
   "id": "fae7eb7c",
   "metadata": {},
   "outputs": [],
   "source": [
    "# Jenny's codes start here\n",
    "# vaccine_us_county_clean file is pre-cleaned with selected columns from CDC data\n",
    "\n",
    "vaccine_county = pd.read_csv(\"Clean_data/vaccine_us_county_clean.csv\",low_memory=False)"
   ]
  },
  {
   "cell_type": "code",
   "execution_count": null,
   "id": "1dcec88d",
   "metadata": {},
   "outputs": [],
   "source": [
    "vaccine_county_rename = vaccine_county.rename(columns={\"Recip_County\": \"County\", \"Series_Complete_Pop_Pct\": \"Vaccination_Complete_Pct\",\"Recip_State\":\"State\"})\n",
    "vaccine_county_rename.shape"
   ]
  },
  {
   "cell_type": "code",
   "execution_count": null,
   "id": "70e85658",
   "metadata": {},
   "outputs": [],
   "source": [
    "# Merge US vaccination file with US coord file\n",
    "\n",
    "us_county = pd.read_csv(\"Resource/05_us_county_coord.csv\",low_memory=False)\n",
    "us_county_rename = us_county.rename(columns={\"fips\": \"FIPS\", \"county\": \"County\", \"state\": \"State\"})\n",
    "us_county_coord = us_county_rename[['FIPS','lat','long']]"
   ]
  },
  {
   "cell_type": "code",
   "execution_count": null,
   "id": "6cc5485a",
   "metadata": {},
   "outputs": [],
   "source": [
    "vaccine_county_coord = pd.merge(vaccine_county_rename, us_county_coord, on='FIPS')\n",
    "vaccine_county_coord.shape"
   ]
  },
  {
   "cell_type": "code",
   "execution_count": null,
   "id": "4cabce99",
   "metadata": {},
   "outputs": [],
   "source": [
    "# Merge US vaccination_coord file with SIV file\n",
    "\n",
    "svi_df = pd.read_csv(\"Resource/04_siv_county.csv\",low_memory=False)\n",
    "svi_df = svi_df.dropna(subset=['Social Vulnerability Index (SVI)'])\n",
    "svi_df = svi_df.loc[svi_df['Social Vulnerability Index (SVI)']!=0]\n",
    "svi_df_rename = svi_df.rename(columns={\"FIPS Code\": \"FIPS\", \"County Name\": \"County\"})\n",
    "# svi_df_rename.shape"
   ]
  },
  {
   "cell_type": "code",
   "execution_count": null,
   "id": "e4f3fe18",
   "metadata": {},
   "outputs": [],
   "source": [
    "svi_df_rename['County'] = svi_df_rename['County'].str.split(',', expand=True)[0]"
   ]
  },
  {
   "cell_type": "code",
   "execution_count": null,
   "id": "b144d79d",
   "metadata": {},
   "outputs": [],
   "source": [
    "vaccine_svi_df = pd.merge(vaccine_county_coord, svi_df_rename, on='FIPS')\n",
    "vaccine_svi_df = vaccine_svi_df[['Date','FIPS','County_x','State_x','Vaccination_Complete_Pct','Metro_status','Social Vulnerability Index (SVI)','SVI Category','lat','long']] \n",
    "vaccine_svi_df = vaccine_svi_df.rename(columns={\"County_x\": \"County\",\"State_x\": \"State\"})\n",
    "vaccine_svi_df.shape\n",
    "# SVI has no Puerto Rico data "
   ]
  },
  {
   "cell_type": "code",
   "execution_count": null,
   "id": "2e5afbb4",
   "metadata": {},
   "outputs": [],
   "source": [
    "# Merge US vaccination_coord with US election data to add FIPS code\n",
    "\n",
    "us_election= pd.read_csv(\"Resource/03_president_county_candidate.csv\",low_memory=False)"
   ]
  },
  {
   "cell_type": "code",
   "execution_count": null,
   "id": "a5a31f47",
   "metadata": {},
   "outputs": [],
   "source": [
    "us_election_rename = us_election.rename(columns={\"state\": \"State\",\"county\":\"County\"})\n",
    "us_county_fips = us_county_rename[['FIPS','State','County']]\n",
    "us_election_fips = pd.merge(us_election_rename,us_county_rename,how='inner',left_on = ['State','County'], right_on=['State','County'])\n",
    "\n",
    "# Only keep DEM&REP rows\n",
    "\n",
    "us_election_fips = us_election_fips.loc[(us_election_fips.party=='DEM')|(us_election_fips.party=='REP')]\n",
    "us_election_fips.shape"
   ]
  },
  {
   "cell_type": "code",
   "execution_count": null,
   "id": "732ba828",
   "metadata": {},
   "outputs": [],
   "source": [
    "# Merge US vaccination with US election_fips file\n",
    "\n",
    "vaccine_election = pd.merge(vaccine_county_rename, us_election_fips, on='FIPS')\n",
    "vaccine_election_df = vaccine_election[['Date','FIPS','County_x','State_x','Vaccination_Complete_Pct','candidate','party','total_votes','won','lat','long']]\n",
    "vaccine_election_df = vaccine_election_df.rename(columns={\"County_x\": \"County\",\"State_x\": \"State\"})\n",
    "vaccine_election_df.shape"
   ]
  },
  {
   "cell_type": "code",
   "execution_count": null,
   "id": "6f493db0",
   "metadata": {},
   "outputs": [],
   "source": [
    "vaccine_svi_df.to_csv(\"Clean_data/vaccine_svi_df.csv\", encoding=\"utf-8\", index=False)"
   ]
  },
  {
   "cell_type": "code",
   "execution_count": null,
   "id": "9667a979",
   "metadata": {},
   "outputs": [],
   "source": [
    "vaccine_county_coord.to_csv(\"Clean_data/vaccine_county_coord.csv\", encoding=\"utf-8\", index=False)"
   ]
  },
  {
   "cell_type": "code",
   "execution_count": null,
   "id": "da64c6d1",
   "metadata": {},
   "outputs": [],
   "source": [
    "vaccine_election_df.to_csv(\"Clean_data/vaccine_election_df.csv\", encoding=\"utf-8\", index=False)"
   ]
  },
  {
   "cell_type": "code",
   "execution_count": null,
   "id": "bdf94a66",
   "metadata": {},
   "outputs": [],
   "source": [
    "# Jenny's codes end here"
   ]
  }
 ],
 "metadata": {
  "kernelspec": {
   "display_name": "Python 3",
   "language": "python",
   "name": "python3"
  },
  "language_info": {
   "codemirror_mode": {
    "name": "ipython",
    "version": 3
   },
   "file_extension": ".py",
   "mimetype": "text/x-python",
   "name": "python",
   "nbconvert_exporter": "python",
   "pygments_lexer": "ipython3",
   "version": "3.8.8"
  }
 },
 "nbformat": 4,
 "nbformat_minor": 5
}
