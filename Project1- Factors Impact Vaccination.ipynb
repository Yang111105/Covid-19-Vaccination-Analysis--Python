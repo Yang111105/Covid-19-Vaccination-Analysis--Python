{
 "cells": [
  {
   "cell_type": "code",
   "execution_count": null,
   "id": "19be3c45",
   "metadata": {},
   "outputs": [],
   "source": [
    "import pandas as pd\n",
    "import numpy as np\n",
    "import matplotlib.pyplot as plt\n",
    "import scipy.stats as st\n",
    "from scipy.stats import linregress"
   ]
  },
  {
   "cell_type": "code",
   "execution_count": null,
   "id": "626e61b3",
   "metadata": {},
   "outputs": [],
   "source": [
    "#The space below is used for analysis of the data from the Clean_Data directory"
   ]
  },
  {
   "cell_type": "code",
   "execution_count": null,
   "id": "01721eb2",
   "metadata": {},
   "outputs": [],
   "source": [
    "# Eugene's codes start here"
   ]
  },
  {
   "cell_type": "code",
   "execution_count": null,
   "id": "92279093",
   "metadata": {},
   "outputs": [],
   "source": [
    "# Eugene's codes end here"
   ]
  },
  {
   "cell_type": "code",
   "execution_count": null,
   "id": "955831f9",
   "metadata": {},
   "outputs": [],
   "source": [
    "# Feipeng's codes start here"
   ]
  },
  {
   "cell_type": "code",
   "execution_count": null,
   "id": "d80562b3",
   "metadata": {},
   "outputs": [],
   "source": [
    "# Feipeng's codes end here"
   ]
  },
  {
   "cell_type": "code",
   "execution_count": null,
   "id": "60f2a638",
   "metadata": {},
   "outputs": [],
   "source": [
    "# Ricardo's codes start here\n",
    "\n",
    "vaccine_socio_df= pd.read_csv(\"Clean_data/vaccine_socio_df.csv\",low_memory=False)\n",
    "vaccine_socio_df"
   ]
  },
  {
   "cell_type": "code",
   "execution_count": null,
   "id": "daa69147",
   "metadata": {},
   "outputs": [],
   "source": [
    "x_values = vaccine_socio_df['per_capita_income']\n",
    "y_values = vaccine_socio_df['Vaccination_Complete_Pct']\n",
    "(slope, intercept, rvalue, pvalue, stderr) = linregress(x_values, y_values)\n",
    "regress_values = x_values * slope + intercept\n",
    "line_eq = \"y = \" + str(round(slope,2)) + \"x + \" + str(round(intercept,2))\n",
    "plt.scatter(x_values,y_values)\n",
    "plt.plot(x_values,regress_values,\"r-\")\n",
    "plt.annotate(line_eq,(0,85),fontsize=15,color=\"red\")\n",
    "plt.xlabel('Per Capita Income')\n",
    "plt.ylabel('Vaccination Percentage')\n",
    "print(f\"The r value is: {rvalue}\")\n",
    "print(f\"The r-squared is: {rvalue**2}\")\n",
    "plt.show()"
   ]
  },
  {
   "cell_type": "code",
   "execution_count": null,
   "id": "9307dad1",
   "metadata": {},
   "outputs": [],
   "source": [
    "x_values = vaccine_socio_df['median_household_income']\n",
    "y_values = vaccine_socio_df['Vaccination_Complete_Pct']\n",
    "(slope, intercept, rvalue, pvalue, stderr) = linregress(x_values, y_values)\n",
    "regress_values = x_values * slope + intercept\n",
    "line_eq = \"y = \" + str(round(slope,2)) + \"x + \" + str(round(intercept,2))\n",
    "plt.scatter(x_values,y_values)\n",
    "plt.plot(x_values,regress_values,\"r-\")\n",
    "plt.annotate(line_eq,(0,85),fontsize=15,color=\"red\")\n",
    "plt.xlabel('Median Household Income')\n",
    "plt.ylabel('Vaccination Percentage')\n",
    "print(f\"The r value is: {rvalue}\")\n",
    "print(f\"The r-squared is: {rvalue**2}\")\n",
    "plt.show()"
   ]
  },
  {
   "cell_type": "code",
   "execution_count": null,
   "id": "80c51e16",
   "metadata": {},
   "outputs": [],
   "source": [
    "# Ricardo's codes end here"
   ]
  },
  {
   "cell_type": "markdown",
   "id": "b835b12d",
   "metadata": {},
   "source": [
    "#### Analysis between SVI vs. Viccination by county"
   ]
  },
  {
   "cell_type": "code",
   "execution_count": null,
   "id": "388b10b8",
   "metadata": {},
   "outputs": [],
   "source": [
    "# Jenny's codes start here\n",
    "vaccine_svi_df = pd.read_csv(\"Clean_data/vaccine_svi_df.csv\",low_memory=False)"
   ]
  },
  {
   "cell_type": "code",
   "execution_count": null,
   "id": "88e5ff6c",
   "metadata": {},
   "outputs": [],
   "source": [
    "x_values = vaccine_svi_df['Social Vulnerability Index (SVI)']\n",
    "y_values = vaccine_svi_df['Vaccination_Complete_Pct']\n",
    "(slope, intercept, rvalue, pvalue, stderr) = linregress(x_values, y_values)\n",
    "regress_values = x_values * slope + intercept\n",
    "line_eq = \"y = \" + str(round(slope,2)) + \"x + \" + str(round(intercept,2))\n",
    "plt.scatter(x_values,y_values)\n",
    "plt.plot(x_values,regress_values,\"r-\")\n",
    "plt.annotate(line_eq,(0,85),fontsize=15,color=\"red\")\n",
    "plt.xlabel('Social Vulnerability Index (SVI)')\n",
    "plt.ylabel('Vaccination_Complete_Pct')\n",
    "print(f\"The r value is: {rvalue}\")\n",
    "print(f\"The r-squared is: {rvalue**2}\")\n",
    "plt.show()"
   ]
  },
  {
   "cell_type": "code",
   "execution_count": null,
   "id": "1a3a0db4",
   "metadata": {},
   "outputs": [],
   "source": [
    "#Anova Test"
   ]
  },
  {
   "cell_type": "code",
   "execution_count": null,
   "id": "b9a308e0",
   "metadata": {},
   "outputs": [],
   "source": [
    "vaccine_svi_df.boxplot('Vaccination_Complete_Pct', by='SVI Category', figsize=(20, 10))\n",
    "plt.show()"
   ]
  },
  {
   "cell_type": "code",
   "execution_count": null,
   "id": "727a334b",
   "metadata": {},
   "outputs": [],
   "source": [
    "svi_very_high_concern = vaccine_svi_df.loc[vaccine_svi_df['SVI Category']=='Very High Concern']['Vaccination_Complete_Pct']\n",
    "svi_high_concern = vaccine_svi_df.loc[vaccine_svi_df['SVI Category']=='High Concern']['Vaccination_Complete_Pct']\n",
    "svi_moderate_concern = vaccine_svi_df.loc[vaccine_svi_df['SVI Category']=='Moderate Concern']['Vaccination_Complete_Pct']\n",
    "svi_low_concern = vaccine_svi_df.loc[vaccine_svi_df['SVI Category']=='Low Concern']['Vaccination_Complete_Pct']\n",
    "svi_very_low_concern = vaccine_svi_df.loc[vaccine_svi_df['SVI Category']=='Very Low Concern']['Vaccination_Complete_Pct']"
   ]
  },
  {
   "cell_type": "code",
   "execution_count": null,
   "id": "67a08f61",
   "metadata": {},
   "outputs": [],
   "source": [
    "st.f_oneway(svi_very_high_concern, svi_high_concern, svi_moderate_concern, svi_low_concern, svi_very_low_concern)"
   ]
  },
  {
   "cell_type": "code",
   "execution_count": null,
   "id": "48831a32",
   "metadata": {},
   "outputs": [],
   "source": [
    "# Jenny's codes end here"
   ]
  },
  {
   "cell_type": "code",
   "execution_count": null,
   "id": "e0376dc5",
   "metadata": {},
   "outputs": [],
   "source": []
  }
 ],
 "metadata": {
  "kernelspec": {
   "display_name": "Python 3",
   "language": "python",
   "name": "python3"
  },
  "language_info": {
   "codemirror_mode": {
    "name": "ipython",
    "version": 3
   },
   "file_extension": ".py",
   "mimetype": "text/x-python",
   "name": "python",
   "nbconvert_exporter": "python",
   "pygments_lexer": "ipython3",
   "version": "3.8.8"
  }
 },
 "nbformat": 4,
 "nbformat_minor": 5
}
