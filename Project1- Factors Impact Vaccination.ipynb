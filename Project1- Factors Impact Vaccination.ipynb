{
 "cells": [
  {
   "cell_type": "code",
   "execution_count": null,
   "id": "8c51c735",
   "metadata": {},
   "outputs": [],
   "source": [
    "import pandas as pd\n",
    "import numpy as np\n",
    "import matplotlib.pyplot as plt\n",
    "import scipy.stats as st\n",
    "from scipy.stats import linregress"
   ]
  },
  {
   "cell_type": "code",
   "execution_count": null,
   "id": "60252dde",
   "metadata": {},
   "outputs": [],
   "source": [
    "# Eugene's codes start here"
   ]
  },
  {
   "cell_type": "code",
   "execution_count": null,
   "id": "2093c1b4",
   "metadata": {},
   "outputs": [],
   "source": [
    "# Eugene's codes end here"
   ]
  },
  {
   "cell_type": "code",
   "execution_count": null,
   "id": "4d0c5421",
   "metadata": {},
   "outputs": [],
   "source": [
    "# Feipeng's codes start here"
   ]
  },
  {
   "cell_type": "code",
   "execution_count": null,
   "id": "cc0a8928",
   "metadata": {},
   "outputs": [],
   "source": [
    "# Feipeng's codes end here"
   ]
  },
  {
   "cell_type": "code",
   "execution_count": null,
   "id": "c8ac1d3c",
   "metadata": {},
   "outputs": [],
   "source": [
    "# Ricardo's codes start here"
   ]
  },
  {
   "cell_type": "code",
   "execution_count": null,
   "id": "e16b7e14",
   "metadata": {},
   "outputs": [],
   "source": [
    "# Ricardo's codes end here"
   ]
  },
  {
   "cell_type": "markdown",
   "id": "b835b12d",
   "metadata": {},
   "source": [
    "#### Analysis between SVI vs. Viccination by county"
   ]
  },
  {
   "cell_type": "code",
   "execution_count": null,
   "id": "388b10b8",
   "metadata": {},
   "outputs": [],
   "source": [
    "# Jenny's codes start here\n",
    "vaccine_svi_df = pd.read_csv(\"Clean_data/vaccine_svi_df.csv\",low_memory=False)"
   ]
  },
  {
   "cell_type": "code",
   "execution_count": null,
   "id": "88e5ff6c",
   "metadata": {},
   "outputs": [],
   "source": [
    "x_values = vaccine_svi_df['Social Vulnerability Index (SVI)']\n",
    "y_values = vaccine_svi_df['Vaccination_Complete_Pct']\n",
    "(slope, intercept, rvalue, pvalue, stderr) = linregress(x_values, y_values)\n",
    "regress_values = x_values * slope + intercept\n",
    "line_eq = \"y = \" + str(round(slope,2)) + \"x + \" + str(round(intercept,2))\n",
    "plt.scatter(x_values,y_values)\n",
    "plt.plot(x_values,regress_values,\"r-\")\n",
    "plt.annotate(line_eq,(0,85),fontsize=15,color=\"red\")\n",
    "plt.xlabel('Social Vulnerability Index (SVI)')\n",
    "plt.ylabel('Vaccination_Complete_Pct')\n",
    "print(f\"The r value is: {rvalue}\")\n",
    "print(f\"The r-squared is: {rvalue**2}\")\n",
    "plt.show()"
   ]
  },
  {
   "cell_type": "code",
   "execution_count": null,
   "id": "1a3a0db4",
   "metadata": {},
   "outputs": [],
   "source": [
    "#Anova Test"
   ]
  },
  {
   "cell_type": "code",
   "execution_count": null,
   "id": "b9a308e0",
   "metadata": {},
   "outputs": [],
   "source": [
    "vaccine_svi_df.boxplot('Vaccination_Complete_Pct', by='SVI Category', figsize=(20, 10))\n",
    "plt.show()"
   ]
  },
  {
   "cell_type": "code",
   "execution_count": null,
   "id": "727a334b",
   "metadata": {},
   "outputs": [],
   "source": [
    "svi_very_high_concern = vaccine_svi_df.loc[vaccine_svi_df['SVI Category']=='Very High Concern']['Vaccination_Complete_Pct']\n",
    "svi_high_concern = vaccine_svi_df.loc[vaccine_svi_df['SVI Category']=='High Concern']['Vaccination_Complete_Pct']\n",
    "svi_moderate_concern = vaccine_svi_df.loc[vaccine_svi_df['SVI Category']=='Moderate Concern']['Vaccination_Complete_Pct']\n",
    "svi_low_concern = vaccine_svi_df.loc[vaccine_svi_df['SVI Category']=='Low Concern']['Vaccination_Complete_Pct']\n",
    "svi_very_low_concern = vaccine_svi_df.loc[vaccine_svi_df['SVI Category']=='Very Low Concern']['Vaccination_Complete_Pct']"
   ]
  },
  {
   "cell_type": "code",
   "execution_count": null,
   "id": "67a08f61",
   "metadata": {},
   "outputs": [],
   "source": [
    "st.f_oneway(svi_very_high_concern, svi_high_concern, svi_moderate_concern, svi_low_concern, svi_very_low_concern)"
   ]
  },
  {
   "cell_type": "code",
   "execution_count": null,
   "id": "6e292414",
   "metadata": {},
   "outputs": [],
   "source": [
    "# Jenny's codes end here"
   ]
  },
  {
   "cell_type": "code",
   "execution_count": null,
   "id": "d7159c5d",
   "metadata": {},
   "outputs": [],
   "source": []
  }
 ],
 "metadata": {
  "kernelspec": {
   "display_name": "Python 3",
   "language": "python",
   "name": "python3"
  },
  "language_info": {
   "codemirror_mode": {
    "name": "ipython",
    "version": 3
   },
   "file_extension": ".py",
   "mimetype": "text/x-python",
   "name": "python",
   "nbconvert_exporter": "python",
   "pygments_lexer": "ipython3",
   "version": "3.8.8"
  }
 },
 "nbformat": 4,
 "nbformat_minor": 5
}
