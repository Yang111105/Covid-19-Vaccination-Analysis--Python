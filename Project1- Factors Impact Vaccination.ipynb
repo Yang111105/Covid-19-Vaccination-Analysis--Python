{
 "cells": [
  {
   "cell_type": "code",
   "execution_count": 1,
   "id": "06fcab55",
   "metadata": {},
   "outputs": [],
   "source": [
    "import pandas as pd\n",
    "import numpy as np\n",
    "import matplotlib.pyplot as plt\n",
    "import scipy.stats as st\n",
    "from scipy.stats import linregress\n",
    "import gmaps\n",
    "import os\n",
    "\n",
    "# Import API key\n",
    "from api_keys import g_key\n",
    "gmaps.configure(api_key=g_key)\n",
    "\n",
    "import warnings\n",
    "warnings.filterwarnings(\"ignore\")"
   ]
  },
  {
   "cell_type": "code",
   "execution_count": 2,
   "id": "14eb7e0e",
   "metadata": {},
   "outputs": [],
   "source": [
    "#The space below is used for analysis of the data from the Clean_Data directory"
   ]
  },
  {
   "cell_type": "code",
   "execution_count": 3,
   "id": "a9c43652",
   "metadata": {},
   "outputs": [],
   "source": [
    "# Eugene's codes start here"
   ]
  },
  {
   "cell_type": "code",
   "execution_count": 4,
   "id": "4dd825d6",
   "metadata": {},
   "outputs": [],
   "source": [
    "# Eugene's codes end here"
   ]
  },
  {
   "cell_type": "code",
   "execution_count": 5,
   "id": "026507fc",
   "metadata": {},
   "outputs": [],
   "source": [
    "# Feipeng's codes start here"
   ]
  },
  {
   "cell_type": "code",
   "execution_count": 6,
   "id": "47dfe18c",
   "metadata": {},
   "outputs": [],
   "source": [
    "# Feipeng's codes end here"
   ]
  },
  {
   "cell_type": "code",
   "execution_count": 7,
   "id": "f567dbcd",
   "metadata": {},
   "outputs": [],
   "source": [
    "# Ricardo's codes start here"
   ]
  },
  {
   "cell_type": "code",
   "execution_count": 8,
   "id": "4b25b166",
   "metadata": {},
   "outputs": [],
   "source": [
    "# Ricardo's codes end here"
   ]
  },
  {
   "cell_type": "markdown",
   "id": "b835b12d",
   "metadata": {},
   "source": [
    "#### Analysis between SVI vs. Viccination by county"
   ]
  },
  {
   "cell_type": "code",
   "execution_count": 9,
   "id": "3dcdb8b4",
   "metadata": {},
   "outputs": [],
   "source": [
    "# Jenny's codes start here"
   ]
  },
  {
   "cell_type": "code",
   "execution_count": 21,
   "id": "388b10b8",
   "metadata": {},
   "outputs": [
    {
     "data": {
      "text/html": [
       "<div>\n",
       "<style scoped>\n",
       "    .dataframe tbody tr th:only-of-type {\n",
       "        vertical-align: middle;\n",
       "    }\n",
       "\n",
       "    .dataframe tbody tr th {\n",
       "        vertical-align: top;\n",
       "    }\n",
       "\n",
       "    .dataframe thead th {\n",
       "        text-align: right;\n",
       "    }\n",
       "</style>\n",
       "<table border=\"1\" class=\"dataframe\">\n",
       "  <thead>\n",
       "    <tr style=\"text-align: right;\">\n",
       "      <th></th>\n",
       "      <th>FIPS</th>\n",
       "      <th>Vaccination_Complete_Pct</th>\n",
       "      <th>Social Vulnerability Index (SVI)</th>\n",
       "      <th>lat</th>\n",
       "      <th>long</th>\n",
       "    </tr>\n",
       "  </thead>\n",
       "  <tbody>\n",
       "    <tr>\n",
       "      <th>count</th>\n",
       "      <td>2858.000000</td>\n",
       "      <td>2858.000000</td>\n",
       "      <td>2858.000000</td>\n",
       "      <td>2858.000000</td>\n",
       "      <td>2858.000000</td>\n",
       "    </tr>\n",
       "    <tr>\n",
       "      <th>mean</th>\n",
       "      <td>28902.742477</td>\n",
       "      <td>42.240833</td>\n",
       "      <td>0.487302</td>\n",
       "      <td>39.069094</td>\n",
       "      <td>-91.467551</td>\n",
       "    </tr>\n",
       "    <tr>\n",
       "      <th>std</th>\n",
       "      <td>14799.780433</td>\n",
       "      <td>12.324798</td>\n",
       "      <td>0.286995</td>\n",
       "      <td>5.042229</td>\n",
       "      <td>12.906683</td>\n",
       "    </tr>\n",
       "    <tr>\n",
       "      <th>min</th>\n",
       "      <td>1001.000000</td>\n",
       "      <td>1.300000</td>\n",
       "      <td>0.010000</td>\n",
       "      <td>25.315618</td>\n",
       "      <td>-164.027212</td>\n",
       "    </tr>\n",
       "    <tr>\n",
       "      <th>25%</th>\n",
       "      <td>18071.500000</td>\n",
       "      <td>34.900000</td>\n",
       "      <td>0.240000</td>\n",
       "      <td>35.679449</td>\n",
       "      <td>-96.948326</td>\n",
       "    </tr>\n",
       "    <tr>\n",
       "      <th>50%</th>\n",
       "      <td>28094.000000</td>\n",
       "      <td>41.900000</td>\n",
       "      <td>0.480000</td>\n",
       "      <td>38.882962</td>\n",
       "      <td>-88.996165</td>\n",
       "    </tr>\n",
       "    <tr>\n",
       "      <th>75%</th>\n",
       "      <td>40078.500000</td>\n",
       "      <td>49.700000</td>\n",
       "      <td>0.740000</td>\n",
       "      <td>42.248572</td>\n",
       "      <td>-82.900416</td>\n",
       "    </tr>\n",
       "    <tr>\n",
       "      <th>max</th>\n",
       "      <td>56045.000000</td>\n",
       "      <td>99.900000</td>\n",
       "      <td>1.000000</td>\n",
       "      <td>69.312150</td>\n",
       "      <td>-67.628790</td>\n",
       "    </tr>\n",
       "  </tbody>\n",
       "</table>\n",
       "</div>"
      ],
      "text/plain": [
       "               FIPS  Vaccination_Complete_Pct  \\\n",
       "count   2858.000000               2858.000000   \n",
       "mean   28902.742477                 42.240833   \n",
       "std    14799.780433                 12.324798   \n",
       "min     1001.000000                  1.300000   \n",
       "25%    18071.500000                 34.900000   \n",
       "50%    28094.000000                 41.900000   \n",
       "75%    40078.500000                 49.700000   \n",
       "max    56045.000000                 99.900000   \n",
       "\n",
       "       Social Vulnerability Index (SVI)          lat         long  \n",
       "count                       2858.000000  2858.000000  2858.000000  \n",
       "mean                           0.487302    39.069094   -91.467551  \n",
       "std                            0.286995     5.042229    12.906683  \n",
       "min                            0.010000    25.315618  -164.027212  \n",
       "25%                            0.240000    35.679449   -96.948326  \n",
       "50%                            0.480000    38.882962   -88.996165  \n",
       "75%                            0.740000    42.248572   -82.900416  \n",
       "max                            1.000000    69.312150   -67.628790  "
      ]
     },
     "execution_count": 21,
     "metadata": {},
     "output_type": "execute_result"
    }
   ],
   "source": [
    "vaccine_svi_df = pd.read_csv(\"Clean_data/vaccine_svi_df.csv\",low_memory=False)\n",
    "vaccine_svi_df.describe()"
   ]
  },
  {
   "cell_type": "code",
   "execution_count": 20,
   "id": "3a97d435",
   "metadata": {},
   "outputs": [],
   "source": [
    "locations = vaccine_svi_df[[\"lat\",\"long\"]].astype(float)\n",
    "vaccination_rate = vaccine_svi_df['Vaccination_Complete_Pct']"
   ]
  },
  {
   "cell_type": "code",
   "execution_count": 23,
   "id": "81895d71",
   "metadata": {},
   "outputs": [
    {
     "data": {
      "application/vnd.jupyter.widget-view+json": {
       "model_id": "b9850cd5506e4ffcabe289c9ac094ca5",
       "version_major": 2,
       "version_minor": 0
      },
      "text/plain": [
       "Figure(layout=FigureLayout(border='1px solid black', height='400px', margin='0 auto 0 auto', padding='1px', wi…"
      ]
     },
     "metadata": {},
     "output_type": "display_data"
    }
   ],
   "source": [
    "fig_layout = {'width': '800px',\n",
    "              'height': '400px',\n",
    "              'border': '1px solid black',\n",
    "              'padding': '1px',\n",
    "              'margin': '0 auto 0 auto'\n",
    "             }\n",
    "fig = gmaps.figure(layout=fig_layout)\n",
    "heat_layer = gmaps.heatmap_layer(locations, weights=vaccination_rate, dissipating=False, max_intensity=vaccination_rate.max(), point_radius=1)\n",
    "fig.add_layer(heat_layer)\n",
    "fig"
   ]
  },
  {
   "cell_type": "code",
   "execution_count": 13,
   "id": "88e5ff6c",
   "metadata": {},
   "outputs": [
    {
     "name": "stdout",
     "output_type": "stream",
     "text": [
      "The r value is: -0.22290867716012341\n",
      "The r-squared is: 0.049688278353276126\n"
     ]
    },
    {
     "data": {
      "image/png": "[encoded data removed]",
      "text/plain": [
       "<Figure size 432x288 with 1 Axes>"
      ]
     },
     "metadata": {
      "needs_background": "light"
     },
     "output_type": "display_data"
    }
   ],
   "source": [
    "x_values = vaccine_svi_df['Social Vulnerability Index (SVI)']\n",
    "y_values = vaccine_svi_df['Vaccination_Complete_Pct']\n",
    "(slope, intercept, rvalue, pvalue, stderr) = linregress(x_values, y_values)\n",
    "regress_values = x_values * slope + intercept\n",
    "line_eq = \"y = \" + str(round(slope,2)) + \"x + \" + str(round(intercept,2))\n",
    "plt.scatter(x_values,y_values)\n",
    "plt.plot(x_values,regress_values,\"r-\")\n",
    "plt.annotate(line_eq,(0,85),fontsize=15,color=\"red\")\n",
    "plt.xlabel('Social Vulnerability Index (SVI)')\n",
    "plt.ylabel('Vaccination_Complete_Pct')\n",
    "print(f\"The r value is: {rvalue}\")\n",
    "print(f\"The r-squared is: {rvalue**2}\")\n",
    "plt.show()"
   ]
  },
  {
   "cell_type": "code",
   "execution_count": 14,
   "id": "1a3a0db4",
   "metadata": {},
   "outputs": [],
   "source": [
    "#Anova Test"
   ]
  },
  {
   "cell_type": "code",
   "execution_count": 15,
   "id": "b9a308e0",
   "metadata": {},
   "outputs": [
    {
     "data": {
      "image/png": "[encoded data removed]",
      "text/plain": [
       "<Figure size 1440x720 with 1 Axes>"
      ]
     },
     "metadata": {
      "needs_background": "light"
     },
     "output_type": "display_data"
    }
   ],
   "source": [
    "vaccine_svi_df.boxplot('Vaccination_Complete_Pct', by='SVI Category', figsize=(20, 10))\n",
    "plt.show()"
   ]
  },
  {
   "cell_type": "code",
   "execution_count": 16,
   "id": "727a334b",
   "metadata": {},
   "outputs": [],
   "source": [
    "svi_very_high_concern = vaccine_svi_df.loc[vaccine_svi_df['SVI Category']=='Very High Concern']['Vaccination_Complete_Pct']\n",
    "svi_high_concern = vaccine_svi_df.loc[vaccine_svi_df['SVI Category']=='High Concern']['Vaccination_Complete_Pct']\n",
    "svi_moderate_concern = vaccine_svi_df.loc[vaccine_svi_df['SVI Category']=='Moderate Concern']['Vaccination_Complete_Pct']\n",
    "svi_low_concern = vaccine_svi_df.loc[vaccine_svi_df['SVI Category']=='Low Concern']['Vaccination_Complete_Pct']\n",
    "svi_very_low_concern = vaccine_svi_df.loc[vaccine_svi_df['SVI Category']=='Very Low Concern']['Vaccination_Complete_Pct']"
   ]
  },
  {
   "cell_type": "code",
   "execution_count": 17,
   "id": "67a08f61",
   "metadata": {},
   "outputs": [
    {
     "data": {
      "text/plain": [
       "F_onewayResult(statistic=37.689671465273356, pvalue=9.114046064617615e-31)"
      ]
     },
     "execution_count": 17,
     "metadata": {},
     "output_type": "execute_result"
    }
   ],
   "source": [
    "st.f_oneway(svi_very_high_concern, svi_high_concern, svi_moderate_concern, svi_low_concern, svi_very_low_concern)"
   ]
  },
  {
   "cell_type": "code",
   "execution_count": 18,
   "id": "2b81224c",
   "metadata": {},
   "outputs": [],
   "source": [
    "# Jenny's codes end here"
   ]
  },
  {
   "cell_type": "code",
   "execution_count": null,
   "id": "25bb2b31",
   "metadata": {},
   "outputs": [],
   "source": []
  }
 ],
 "metadata": {
  "kernelspec": {
   "display_name": "Python 3",
   "language": "python",
   "name": "python3"
  },
  "language_info": {
   "codemirror_mode": {
    "name": "ipython",
    "version": 3
   },
   "file_extension": ".py",
   "mimetype": "text/x-python",
   "name": "python",
   "nbconvert_exporter": "python",
   "pygments_lexer": "ipython3",
   "version": "3.8.8"
  }
 },
 "nbformat": 4,
 "nbformat_minor": 5
}
