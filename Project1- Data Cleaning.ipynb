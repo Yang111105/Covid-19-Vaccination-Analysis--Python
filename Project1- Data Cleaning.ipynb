{
 "cells": [
  {
   "cell_type": "code",
   "execution_count": 1,
   "metadata": {},
   "outputs": [],
   "source": [
    "import pandas as pd\n",
    "import numpy as np\n",
    "import matplotlib.pyplot as plt\n",
    "import scipy.stats as st"
   ]
  },
  {
   "cell_type": "code",
   "execution_count": 2,
   "metadata": {},
   "outputs": [],
   "source": [
    "# Load in the sample data\n",
    "vaccine_county = pd.read_csv(\"Clean_data/vaccine_us_county_clean.csv\",low_memory=False)\n",
    "vaccine_county_sample = pd.read_csv(\"Clean_data/vaccine_county_sample.csv\",low_memory=False)"
   ]
  },
  {
   "cell_type": "code",
   "execution_count": 3,
   "metadata": {},
   "outputs": [
    {
     "name": "stdout",
     "output_type": "stream",
     "text": [
      "0       47.1\n",
      "1       34.4\n",
      "2       40.4\n",
      "3       50.1\n",
      "4       52.6\n",
      "        ... \n",
      "2949    49.4\n",
      "2950    31.7\n",
      "2951    55.0\n",
      "2952    42.5\n",
      "2953    36.7\n",
      "Name: Series_Complete_Pop_Pct, Length: 2954, dtype: float64\n",
      "0      45.4\n",
      "1      34.2\n",
      "2      19.4\n",
      "3      31.7\n",
      "4      28.3\n",
      "       ... \n",
      "995    49.4\n",
      "996    52.2\n",
      "997    42.1\n",
      "998    33.1\n",
      "999    37.8\n",
      "Name: Series_Complete_Pop_Pct, Length: 1000, dtype: float64\n"
     ]
    }
   ],
   "source": [
    "vaccine_rate = vaccine_county.Series_Complete_Pop_Pct\n",
    "vaccine_rate_sample = vaccine_county_sample.Series_Complete_Pop_Pct\n",
    "print(vaccine_rate)\n",
    "print(vaccine_rate_sample)"
   ]
  },
  {
   "cell_type": "code",
   "execution_count": null,
   "metadata": {},
   "outputs": [],
   "source": [
    "# Please use the space below for running code for cleaning your data set and saving output in the Clean_Data directory"
   ]
  },
  {
   "cell_type": "code",
   "execution_count": null,
   "metadata": {},
   "outputs": [],
   "source": [
    "# Eugene's codes start here\n"
   ]
  },
  {
   "cell_type": "code",
   "execution_count": null,
   "metadata": {},
   "outputs": [],
   "source": [
    "# Eugene's codes end here"
   ]
  },
  {
   "cell_type": "code",
   "execution_count": null,
   "metadata": {},
   "outputs": [],
   "source": [
    "# Feipeng's codes start here"
   ]
  },
  {
   "cell_type": "code",
   "execution_count": null,
   "metadata": {},
   "outputs": [],
   "source": [
    "# Feipeng's codes end here"
   ]
  },
  {
   "cell_type": "code",
   "execution_count": null,
   "metadata": {},
   "outputs": [],
   "source": [
    "# Ricardo's codes start here\n",
    "\n",
    "#testing merge function in github"
   ]
  },
  {
   "cell_type": "code",
   "execution_count": null,
   "metadata": {},
   "outputs": [],
   "source": [
    "# Ricardo's codes end here"
   ]
  },
  {
   "cell_type": "code",
   "execution_count": null,
   "metadata": {},
   "outputs": [],
   "source": [
    "# Jenny's codes start here"
   ]
  },
  {
   "cell_type": "code",
   "execution_count": null,
   "metadata": {},
   "outputs": [],
   "source": [
    "# Jenny's codes end here"
   ]
  }
 ],
 "metadata": {
  "kernelspec": {
   "display_name": "Python 3",
   "language": "python",
   "name": "python3"
  },
  "language_info": {
   "codemirror_mode": {
    "name": "ipython",
    "version": 3
   },
   "file_extension": ".py",
   "mimetype": "text/x-python",
   "name": "python",
   "nbconvert_exporter": "python",
   "pygments_lexer": "ipython3",
   "version": "3.8.8"
  }
 },
 "nbformat": 4,
 "nbformat_minor": 5
}
