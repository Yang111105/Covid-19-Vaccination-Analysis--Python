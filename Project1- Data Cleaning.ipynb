{
 "cells": [
  {
   "cell_type": "code",
   "execution_count": null,
   "id": "8c51c735",
   "metadata": {},
   "outputs": [],
   "source": [
    "import pandas as pd\n",
    "import numpy as np\n",
    "import matplotlib.pyplot as plt\n",
    "import scipy.stats as st"
   ]
  },
  {
   "cell_type": "code",
   "execution_count": null,
   "id": "fae7eb7c",
   "metadata": {},
   "outputs": [],
   "source": [
    "# Jenny's codes start here\n",
    "vaccine_county = pd.read_csv(\"Clean_data/vaccine_us_county_clean.csv\",low_memory=False)"
   ]
  },
  {
   "cell_type": "code",
   "execution_count": null,
   "id": "1dcec88d",
   "metadata": {},
   "outputs": [],
   "source": [
    "vaccine_county_rename = vaccine_county.rename(columns={\"Recip_County\": \"County\", \"Series_Complete_Pop_Pct\": \"Vaccination_Complete_Pct\",\"Recip_State\":\"State\"})\n",
    "vaccine_county_rename.head()"
   ]
  },
  {
   "cell_type": "code",
   "execution_count": null,
   "id": "05ee9a6a",
   "metadata": {},
   "outputs": [],
   "source": [
    "svi_df = pd.read_csv(\"Resource/04_siv_county.csv\",low_memory=False)\n",
    "svi_df = svi_df.dropna()\n",
    "svi_df_rename = svi_df.rename(columns={\"FIPS Code\": \"FIPS\", \"County Name\": \"County\"})"
   ]
  },
  {
   "cell_type": "code",
   "execution_count": null,
   "id": "e4f3fe18",
   "metadata": {},
   "outputs": [],
   "source": [
    "svi_df_rename['County'] = svi_df_rename['County'].str.split(',', expand=True)[0]"
   ]
  },
  {
   "cell_type": "code",
   "execution_count": null,
   "id": "b144d79d",
   "metadata": {},
   "outputs": [],
   "source": [
    "vaccine_svi_df = pd.merge(vaccine_county_rename, svi_df_rename, on='FIPS')\n",
    "vaccine_svi_df = vaccine_svi_df[['Date','FIPS','County_x','State_x','Vaccination_Complete_Pct','Metro_status','Social Vulnerability Index (SVI)','SVI Category']] \n",
    "vaccine_svi_df = vaccine_svi_df.rename(columns={\"County_x\": \"County\",\"State_x\": \"State\"})"
   ]
  },
  {
   "cell_type": "code",
   "execution_count": null,
   "id": "6f493db0",
   "metadata": {},
   "outputs": [],
   "source": [
    "# Jenny's codes end here\n",
    "vaccine_svi_df.to_csv(\"Clean_data/vaccine_svi_df.csv\", encoding=\"utf-8\", index=False)"
   ]
  },
  {
   "cell_type": "code",
   "execution_count": null,
   "id": "64cdd5cc",
   "metadata": {},
   "outputs": [],
   "source": [
    "#ricardo's code starts here"
   ]
  },
  {
   "cell_type": "code",
   "execution_count": null,
   "id": "96af155c",
   "metadata": {},
   "outputs": [],
   "source": [
    "vaccine_county = pd.read_csv(\"Clean_data/vaccine_us_county_clean.csv\",low_memory=False)"
   ]
  },
  {
   "cell_type": "code",
   "execution_count": null,
   "id": "66e599e8",
   "metadata": {},
   "outputs": [],
   "source": [
    "vaccine_county_rename = vaccine_county.rename(columns={\"Recip_County\": \"County\", \"Series_Complete_Pop_Pct\": \"Vaccination_Complete_Pct\",\"Recip_State\":\"State\"})\n",
    "vaccine_county_rename.head()"
   ]
  },
  {
   "cell_type": "code",
   "execution_count": null,
   "id": "b0f18ac5",
   "metadata": {},
   "outputs": [],
   "source": [
    "socio_health_df = pd.read_csv(\"Resource/02_us_county_sociohealth_data.csv\",low_memory=False)\n",
    "socio_health_df_rename = socio_health_df.rename(columns={\"fips\": \"FIPS\"})"
   ]
  },
  {
   "cell_type": "code",
   "execution_count": null,
   "id": "cb9c4d36",
   "metadata": {},
   "outputs": [],
   "source": [
    "socio_health_df_rename"
   ]
  },
  {
   "cell_type": "code",
   "execution_count": null,
   "id": "af796aa7",
   "metadata": {},
   "outputs": [],
   "source": [
    "#need to convert FIPS to string for socio_health_dat\n",
    "vaccine_county_rename = vaccine_county_rename.astype({\"FIPS\":str})\n",
    "\n",
    "#merging the county data with the socio health data\n",
    "vaccine_socio_df = pd.merge(vaccine_county_rename,socio_health_df_rename, on='FIPS')"
   ]
  },
  {
   "cell_type": "code",
   "execution_count": null,
   "id": "b75eb330",
   "metadata": {},
   "outputs": [],
   "source": [
    "vaccine_socio_df = pd.merge(vaccine_county_rename,socio_health_df_rename,on=\"FIPS\")"
   ]
  },
  {
   "cell_type": "code",
   "execution_count": null,
   "id": "89db8618",
   "metadata": {},
   "outputs": [],
   "source": [
    "vaccine_socio_df"
   ]
  },
  {
   "cell_type": "code",
   "execution_count": null,
   "id": "58bb0a5b",
   "metadata": {},
   "outputs": [],
   "source": [
    "vaccine_socio_df.to_csv(\"Clean_data/vaccine_socio_df.csv\", encoding=\"utf-8\", index=False)"
   ]
  },
  {
   "cell_type": "code",
   "execution_count": null,
   "id": "6e28ed3c",
   "metadata": {},
   "outputs": [],
   "source": []
  },
  {
   "cell_type": "code",
   "execution_count": null,
   "id": "0719e43e",
   "metadata": {},
   "outputs": [],
   "source": [
    "#ricardo's code ends here"
   ]
  }
 ],
 "metadata": {
  "kernelspec": {
   "display_name": "Python 3",
   "language": "python",
   "name": "python3"
  },
  "language_info": {
   "codemirror_mode": {
    "name": "ipython",
    "version": 3
   },
   "file_extension": ".py",
   "mimetype": "text/x-python",
   "name": "python",
   "nbconvert_exporter": "python",
   "pygments_lexer": "ipython3",
   "version": "3.8.8"
  }
 },
 "nbformat": 4,
 "nbformat_minor": 5
}
